{
 "cells": [
  {
   "cell_type": "code",
   "execution_count": 2,
   "metadata": {},
   "outputs": [],
   "source": [
    "import numpy as np"
   ]
  },
  {
   "cell_type": "code",
   "execution_count": 52,
   "metadata": {},
   "outputs": [],
   "source": [
    "class asteroidMap:    \n",
    "    def __init__(self, file):\n",
    "        with open(file, 'r') as f:\n",
    "            lines = f.readlines()\n",
    "        \n",
    "        self.fieldMap = np.zeros((len(lines[0])-1, len(lines))) # -1 as line terminates in \"\\n\"\n",
    "        self.fieldMapCount = np.zeros((len(lines[0])-1, len(lines))) # -1 as line terminates in \"\\n\"\n",
    "        self.n_asteroids = 0\n",
    "        \n",
    "        for y, line in enumerate(lines):\n",
    "            for x, c in enumerate(line[:-1]):\n",
    "                self.n_asteroids += 1 if c == '#' else 0\n",
    "                self.fieldMap[x, y] = 1 if c == '#' else 0\n",
    "                \n",
    "    def mapCount(self):\n",
    "        for y in range(self.fieldMap.shape[1]):\n",
    "            for x in range(self.fieldMap.shape[0]):\n",
    "                if self.fieldMap[x, y] == 0:\n",
    "                    continue\n",
    "                \n",
    "                self.fieldMapCount = self.n_asteroids - self.countVisibleAsteroids(x, y)\n",
    "    \n",
    "    def countVisibleAsteroids(self, x, y):\n",
    "        totalBlocked = 0\n",
    "        totalBlocked += self.countSideways(x, y)\n",
    "        totalBlocked += self.countUpDown(x, y)\n",
    "        totalBlocked += self.countDiagonals(x, y)        \n",
    "        return totalBlocked\n",
    "    \n",
    "    def countSideways(self, x, y):\n",
    "        nlos = 0\n",
    "        for i in range(x-1, -1, -1):\n",
    "            nlos += self.fieldMap[i, y]\n",
    "            \n",
    "        for i in range(x+1, self.fieldMap.shape[0]):\n",
    "            nlos += self.fieldMap[i, y]\n",
    "            \n",
    "        nlos = nlos - 2 (if nlos > 2) else nlos\n",
    "        \n",
    "        return nlos\n",
    "        \n",
    "        \n",
    "\n",
    "    def countUpDown(self, x, y):\n",
    "\n",
    "    def countDiagonals(self, x, y):"
   ]
  },
  {
   "cell_type": "code",
   "execution_count": 53,
   "metadata": {},
   "outputs": [],
   "source": [
    "file = 'day10_input'\n",
    "myMap = asteroidMap(file)"
   ]
  },
  {
   "cell_type": "code",
   "execution_count": 50,
   "metadata": {},
   "outputs": [],
   "source": [
    "max_asteroids = 0\n",
    "for j in range(map.shape[1]):\n",
    "    for i in range(map.shape[0]):\n",
    "        if map[i, j] != 1:\n",
    "            continue\n",
    "        \n",
    "        los = np.sum(map[x, :]) + np.sum(map[:, y])\n",
    "        los = n_asteroids - los + 1\n",
    "        \n",
    "        max_asteroids = los if (los > max_asteroids) else max_asteroids"
   ]
  }
 ],
 "metadata": {
  "kernelspec": {
   "display_name": "Python 3",
   "language": "python",
   "name": "python3"
  },
  "language_info": {
   "codemirror_mode": {
    "name": "ipython",
    "version": 3
   },
   "file_extension": ".py",
   "mimetype": "text/x-python",
   "name": "python",
   "nbconvert_exporter": "python",
   "pygments_lexer": "ipython3",
   "version": "3.7.4"
  }
 },
 "nbformat": 4,
 "nbformat_minor": 2
}
