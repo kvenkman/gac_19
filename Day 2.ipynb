{
 "cells": [
  {
   "cell_type": "markdown",
   "metadata": {},
   "source": [
    "# Part 1"
   ]
  },
  {
   "cell_type": "code",
   "execution_count": 26,
   "metadata": {},
   "outputs": [],
   "source": [
    "filename = 'day2_input'"
   ]
  },
  {
   "cell_type": "code",
   "execution_count": 27,
   "metadata": {},
   "outputs": [],
   "source": [
    "with open(filename, 'r') as f:\n",
    "    line = f.readlines()"
   ]
  },
  {
   "cell_type": "code",
   "execution_count": 28,
   "metadata": {},
   "outputs": [],
   "source": [
    "line = line[0].split(',')\n",
    "line = [int(x) for x in line]\n",
    "\n",
    "# To run the 1202 program\n",
    "line[1] = 12\n",
    "line[2] = 2"
   ]
  },
  {
   "cell_type": "code",
   "execution_count": 29,
   "metadata": {},
   "outputs": [
    {
     "name": "stdout",
     "output_type": "stream",
     "text": [
      "5534943\n"
     ]
    }
   ],
   "source": [
    "code_pointer = 0\n",
    "\n",
    "while(line[code_pointer] != 99 and ((code_pointer + 3) < len(line))):\n",
    "    b, c, d = line[code_pointer+1], line[code_pointer+2], line[code_pointer+3]\n",
    "    \n",
    "    if(line[code_pointer] == 1):\n",
    "        line[d] = line[b] + line[c]\n",
    "        code_pointer += 4\n",
    "        continue\n",
    "    if(line[code_pointer] == 2):\n",
    "        line[d] = line[b] * line[c]\n",
    "        code_pointer += 4\n",
    "        continue\n",
    "\n",
    "print(line[0])"
   ]
  },
  {
   "cell_type": "markdown",
   "metadata": {},
   "source": [
    "# Part 2"
   ]
  },
  {
   "cell_type": "code",
   "execution_count": 31,
   "metadata": {},
   "outputs": [],
   "source": [
    "with open(filename, 'r') as f:\n",
    "    line = f.readlines()\n",
    "\n",
    "line = line[0].split(',')\n",
    "line = [int(x) for x in line]\n",
    "\n",
    "line = tuple(line) # Make the input data nice and immutable"
   ]
  },
  {
   "cell_type": "code",
   "execution_count": 32,
   "metadata": {},
   "outputs": [],
   "source": [
    "target_output = 19690720"
   ]
  },
  {
   "cell_type": "code",
   "execution_count": 33,
   "metadata": {},
   "outputs": [],
   "source": [
    "def run_program(line:list, noun:int, verb:int) -> int:\n",
    "    line[1] = noun\n",
    "    line[2] = verb\n",
    "    \n",
    "    code_pointer = 0\n",
    "\n",
    "    while(line[code_pointer] != 99 and ((code_pointer + 3) < len(line))):\n",
    "        b, c, d = line[code_pointer+1], line[code_pointer+2], line[code_pointer+3]\n",
    "\n",
    "        if(line[code_pointer] == 1):\n",
    "            line[d] = line[b] + line[c]\n",
    "            code_pointer += 4\n",
    "            continue\n",
    "        if(line[code_pointer] == 2):\n",
    "            line[d] = line[b] * line[c]\n",
    "            code_pointer += 4\n",
    "            continue\n",
    "\n",
    "    return line[0]"
   ]
  },
  {
   "cell_type": "code",
   "execution_count": 36,
   "metadata": {},
   "outputs": [],
   "source": [
    "for noun in range (100):\n",
    "    for verb in range(100):\n",
    "        output = run_program(list(line), noun, verb)\n",
    "        \n",
    "        if (output == target_output):\n",
    "            break\n",
    "    # Is there a nicer way to break out of two \n",
    "    if (output == target_output):\n",
    "        break"
   ]
  },
  {
   "cell_type": "code",
   "execution_count": 37,
   "metadata": {},
   "outputs": [
    {
     "name": "stdout",
     "output_type": "stream",
     "text": [
      "9999\n"
     ]
    }
   ],
   "source": [
    "print(100*noun + verb)"
   ]
  },
  {
   "cell_type": "code",
   "execution_count": null,
   "metadata": {},
   "outputs": [],
   "source": []
  }
 ],
 "metadata": {
  "kernelspec": {
   "display_name": "Python 3",
   "language": "python",
   "name": "python3"
  },
  "language_info": {
   "codemirror_mode": {
    "name": "ipython",
    "version": 3
   },
   "file_extension": ".py",
   "mimetype": "text/x-python",
   "name": "python",
   "nbconvert_exporter": "python",
   "pygments_lexer": "ipython3",
   "version": "3.6.5"
  }
 },
 "nbformat": 4,
 "nbformat_minor": 2
}
