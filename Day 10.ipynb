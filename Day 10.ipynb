{
 "cells": [
  {
   "cell_type": "code",
   "execution_count": 156,
   "metadata": {},
   "outputs": [],
   "source": [
    "import numpy as np\n",
    "from collections import defaultdict"
   ]
  },
  {
   "cell_type": "code",
   "execution_count": 174,
   "metadata": {},
   "outputs": [],
   "source": [
    "class asteroidMap:    \n",
    "    def __init__(self, file):\n",
    "        '''load map into memory, count number of asteroids present on map'''\n",
    "        with open(file, 'r') as f:\n",
    "            lines = f.readlines()\n",
    "        \n",
    "        self.mapSet = set()\n",
    "        self.n_asteroids = 0\n",
    "        \n",
    "        for y, line in enumerate(lines):\n",
    "            for x, c in enumerate(line):\n",
    "                if (c == '\\n'):\n",
    "                    continue\n",
    "                if c == '#':\n",
    "                    self.mapSet.add((y, x))\n",
    "                \n",
    "    def countBlocked(self):\n",
    "        '''for every asteroid present on map, count number of asteroids visible from it'''\n",
    "        self.maxVisible = 0 \n",
    "        for y in range(self.fieldMap.shape[0]):\n",
    "            for x in range(self.fieldMap.shape[1]):\n",
    "                if self.fieldMap[y, x] == 0: # this isn't an asteroid, skip\n",
    "                    continue\n",
    "                \n",
    "                self.fieldMapCount[y, x] = self.n_asteroids - self.countBlockedAsteroids(y, x) - 1\n",
    "                print(self.fieldMapCount[y, x])\n",
    "                self.maxVisible = self.fieldMapCount[y, x] if (self.fieldMapCount[y, x] > self.maxVisible) else self.maxVisible\n",
    "    \n",
    "    def countBlockedAsteroids(self, y, x):\n",
    "        totalBlocked = 0\n",
    "        totalBlocked += self.countSideways(y, x)\n",
    "        totalBlocked += self.countUpDown(y, x)\n",
    "        totalBlocked += self.countDiagonals(y, x)      \n",
    "        return totalBlocked\n",
    "    \n",
    "    def countSideways(self, y, x):\n",
    "        blocked = 0\n",
    "        temp = 0\n",
    "        \n",
    "        for i in range(x-1, -1, -1):\n",
    "            temp += self.fieldMap[y, i]\n",
    "        blocked += temp - 1 if (temp > 0) else 0\n",
    "            \n",
    "        temp = 0\n",
    "        for i in range(x+1, self.fieldMap.shape[1]):\n",
    "            temp += self.fieldMap[y, i]\n",
    "        blocked += temp - 1 if (temp > 0) else 0\n",
    "        \n",
    "        return blocked\n",
    "        \n",
    "    def countUpDown(self, y, x):\n",
    "        blocked = 0\n",
    "        temp = 0\n",
    "        \n",
    "        for j in range(y-1, -1, -1):\n",
    "            temp += self.fieldMap[j, x]\n",
    "        blocked += temp - 1 if (temp > 0) else 0        \n",
    "        \n",
    "        temp = 0            \n",
    "        for j in range(y+1, self.fieldMap.shape[0]):\n",
    "            temp += self.fieldMap[j, x]\n",
    "        blocked += temp - 1 if (temp > 0) else 0\n",
    "        \n",
    "        return blocked\n",
    "    \n",
    "    def countDiagonals(self, y, x):\n",
    "        blocked = 0\n",
    "        temp = 0\n",
    "        x_copy, y_copy = x-1, y-1\n",
    "        \n",
    "        while ((x_copy>0) and (y_copy>0)):\n",
    "            temp += self.fieldMap[y_copy, x_copy]            \n",
    "            x_copy -= 1\n",
    "            y_copy -= 1\n",
    "        blocked += temp - 1 if (temp > 0) else 0\n",
    "        \n",
    "        temp = 0\n",
    "        x_copy, y_copy = x+1, y+1\n",
    "        while ((x_copy<self.fieldMap.shape[1]) and (y_copy<self.fieldMap.shape[0])):\n",
    "            temp += self.fieldMap[y_copy, x_copy]            \n",
    "            x_copy += 1\n",
    "            y_copy += 1\n",
    "            \n",
    "        blocked += temp - 1 if (temp > 0) else 0\n",
    "\n",
    "        temp = 0\n",
    "        x_copy, y_copy = x+1, y-1\n",
    "        while ((x_copy<self.fieldMap.shape[1]) and (y_copy>0)):\n",
    "            temp += self.fieldMap[y_copy, x_copy]            \n",
    "            x_copy += 1\n",
    "            y_copy -= 1\n",
    "            \n",
    "        blocked += temp - 1 if (temp > 0) else 0\n",
    "        \n",
    "        temp = 0\n",
    "        x_copy, y_copy = x-1, y+1\n",
    "        while ((x_copy>0) and (y_copy<self.fieldMap.shape[0])):\n",
    "            temp += self.fieldMap[y_copy, x_copy]            \n",
    "            x_copy -= 1\n",
    "            y_copy += 1\n",
    "            \n",
    "        blocked += temp - 1 if (temp > 0) else 0        \n",
    "        \n",
    "        return blocked"
   ]
  },
  {
   "cell_type": "code",
   "execution_count": 175,
   "metadata": {},
   "outputs": [],
   "source": [
    "# file = 'day10_input'\n",
    "file = 'day10_test'\n",
    "myMap = asteroidMap(file)"
   ]
  },
  {
   "cell_type": "code",
   "execution_count": 176,
   "metadata": {},
   "outputs": [
    {
     "data": {
      "text/plain": [
       "{(0, 1),\n",
       " (0, 4),\n",
       " (2, 0),\n",
       " (2, 1),\n",
       " (2, 2),\n",
       " (2, 3),\n",
       " (2, 4),\n",
       " (3, 4),\n",
       " (4, 3),\n",
       " (4, 4)}"
      ]
     },
     "execution_count": 176,
     "metadata": {},
     "output_type": "execute_result"
    }
   ],
   "source": [
    "myMap.mapSet"
   ]
  },
  {
   "cell_type": "code",
   "execution_count": 152,
   "metadata": {},
   "outputs": [
    {
     "data": {
      "text/plain": [
       "10"
      ]
     },
     "execution_count": 152,
     "metadata": {},
     "output_type": "execute_result"
    }
   ],
   "source": [
    "myMap.n_asteroids"
   ]
  },
  {
   "cell_type": "code",
   "execution_count": 153,
   "metadata": {},
   "outputs": [
    {
     "data": {
      "text/plain": [
       "array([[0., 1., 0., 0., 1.],\n",
       "       [0., 0., 0., 0., 0.],\n",
       "       [1., 1., 1., 1., 1.],\n",
       "       [0., 0., 0., 0., 1.],\n",
       "       [0., 0., 0., 1., 1.]])"
      ]
     },
     "execution_count": 153,
     "metadata": {},
     "output_type": "execute_result"
    }
   ],
   "source": [
    "myMap.fieldMap[:, :]"
   ]
  },
  {
   "cell_type": "code",
   "execution_count": 154,
   "metadata": {},
   "outputs": [
    {
     "name": "stdout",
     "output_type": "stream",
     "text": [
      "8.0\n",
      "7.0\n",
      "6.0\n",
      "7.0\n",
      "7.0\n",
      "7.0\n",
      "5.0\n",
      "8.0\n",
      "9.0\n",
      "7.0\n"
     ]
    }
   ],
   "source": [
    "myMap.mapCount()\n",
    "#print(myMap.maxVisible)"
   ]
  },
  {
   "cell_type": "code",
   "execution_count": 155,
   "metadata": {},
   "outputs": [
    {
     "data": {
      "text/plain": [
       "1.0"
      ]
     },
     "execution_count": 155,
     "metadata": {},
     "output_type": "execute_result"
    }
   ],
   "source": [
    "myMap.countDiagonals(0, 1)"
   ]
  }
 ],
 "metadata": {
  "kernelspec": {
   "display_name": "Python 3",
   "language": "python",
   "name": "python3"
  },
  "language_info": {
   "codemirror_mode": {
    "name": "ipython",
    "version": 3
   },
   "file_extension": ".py",
   "mimetype": "text/x-python",
   "name": "python",
   "nbconvert_exporter": "python",
   "pygments_lexer": "ipython3",
   "version": "3.7.4"
  }
 },
 "nbformat": 4,
 "nbformat_minor": 2
}
