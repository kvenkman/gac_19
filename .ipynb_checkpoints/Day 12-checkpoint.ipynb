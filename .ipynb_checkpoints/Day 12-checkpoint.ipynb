{
 "cells": [
  {
   "cell_type": "markdown",
   "metadata": {},
   "source": [
    "# Part 1"
   ]
  },
  {
   "cell_type": "code",
   "execution_count": 75,
   "metadata": {},
   "outputs": [],
   "source": [
    "class moonsOfJupiter():\n",
    "    def __init__(self, input_line):\n",
    "        self.position = self.parse_input(input_line)\n",
    "        self.velocity = [0, 0, 0]\n",
    "        \n",
    "        self.dv = [0, 0, 0]\n",
    "        \n",
    "    def parse_input(self, input_line):\n",
    "        input_line = input_line[1:-2].split(', ')\n",
    "        \n",
    "        x = int(input_line[0][2:])\n",
    "        y = int(input_line[1][2:])\n",
    "        z = int(input_line[2][2:])\n",
    "        \n",
    "        return [x, y, z]\n",
    "    \n",
    "    def calculate_v_update(self, moon1, moon2, moon3):\n",
    "        for i in range(3):\n",
    "            self.dv[i] = self.calculate_increment(self.position[i], moon1.position[i]) + \\\n",
    "                         self.calculate_increment(self.position[i], moon2.position[i]) + \\\n",
    "                         self.calculate_increment(self.position[i], moon3.position[i])\n",
    "    \n",
    "    def calculate_increment(self, one, two):\n",
    "        if (one<two):\n",
    "            return 1\n",
    "        elif(one>two):\n",
    "            return -1\n",
    "        else:\n",
    "            return 0\n",
    "        \n",
    "    def update_pv(self):\n",
    "        for i in range(3):\n",
    "            self.velocity[i] += self.dv[i]\n",
    "        for i in range(3):\n",
    "            self.position[i] += self.velocity[i]\n",
    "            \n",
    "        self.dv = [0, 0, 0]\n",
    "        \n",
    "    def calculate_pe(self):\n",
    "        pe = 0\n",
    "        for i in range(3):\n",
    "            pe += abs(self.position[i]) \n",
    "        return pe\n",
    "    \n",
    "    def calculate_ke(self):\n",
    "        ke = 0\n",
    "        for i in range(3):\n",
    "            ke += abs(self.velocity[i]) \n",
    "        return ke\n",
    "    \n",
    "    def calculate_te(self):\n",
    "        '''calculate total energy'''\n",
    "        total_energy = self.calculate_pe() * self.calculate_ke()\n",
    "        return total_energy\n",
    "    \n",
    "    def print_pv(self):\n",
    "        print([self.position[0], self.position[1], self.position[2], self.velocity[0], self.velocity[1], self.velocity[2]])"
   ]
  },
  {
   "cell_type": "code",
   "execution_count": 82,
   "metadata": {},
   "outputs": [],
   "source": [
    "# input_file = 'day12_input.txt'\n",
    "input_file = 'day12_test_input.txt'\n",
    "with open(input_file, 'r') as f:\n",
    "    lines = f.readlines()\n",
    "    \n",
    "# Setting initial positions and velocities for the moons\n",
    "io = moonsOfJupiter(lines[0])\n",
    "europa = moonsOfJupiter(lines[1])\n",
    "ganymede = moonsOfJupiter(lines[2])\n",
    "callisto = moonsOfJupiter(lines[3])"
   ]
  },
  {
   "cell_type": "code",
   "execution_count": 80,
   "metadata": {},
   "outputs": [],
   "source": [
    "# Let's simulate the trajectories!\n",
    "positionHistory = set()\n",
    "iteration = 0\n",
    "\n",
    "while True:\n",
    "    \n",
    "    currentPositionVector = (io.position[0], io.position[1], io.position[2]\\\n",
    "                             europa.position[0], europa.position[1], europa.position[2], \\\n",
    "                             ganymede.position[0], ganymede.position[1], ganymede.position[2], \\\n",
    "                             calliston.position[0], calliston.position[1], calliston.position[2], \\\n",
    "                            )\n",
    "    \n",
    "    if currentPositionVector not in positionHistory:\n",
    "        positionHistory.add(currentPositionVector)\n",
    "    else:\n",
    "        print(iteration)\n",
    "        break\n",
    "    \n",
    "    io.calculate_v_update(europa, ganymede, callisto)\n",
    "    europa.calculate_v_update(io, ganymede, callisto)\n",
    "    ganymede.calculate_v_update(io, europa, callisto)\n",
    "    callisto.calculate_v_update(io, europa, ganymede)\n",
    "    \n",
    "    io.update_pv()\n",
    "    europa.update_pv()\n",
    "    ganymede.update_pv()\n",
    "    callisto.update_pv()\n",
    "    iteration += 1"
   ]
  },
  {
   "cell_type": "code",
   "execution_count": 81,
   "metadata": {},
   "outputs": [
    {
     "name": "stdout",
     "output_type": "stream",
     "text": [
      "11384\n"
     ]
    }
   ],
   "source": [
    "print(io.calculate_te() + ganymede.calculate_te() + europa.calculate_te() + callisto.calculate_te())"
   ]
  },
  {
   "cell_type": "markdown",
   "metadata": {},
   "source": [
    "# Part 2"
   ]
  },
  {
   "cell_type": "code",
   "execution_count": null,
   "metadata": {},
   "outputs": [],
   "source": [
    "input_file = 'day12_input.txt'\n",
    "# input_file = 'day12_test_input.txt'\n",
    "with open(input_file, 'r') as f:\n",
    "    lines = f.readlines()\n",
    "    \n",
    "# Setting initial positions and velocities for the moons\n",
    "io = moonsOfJupiter(lines[0])\n",
    "europa = moonsOfJupiter(lines[1])\n",
    "ganymede = moonsOfJupiter(lines[2])\n",
    "callisto = moonsOfJupiter(lines[3])"
   ]
  },
  {
   "cell_type": "code",
   "execution_count": null,
   "metadata": {},
   "outputs": [],
   "source": [
    "# Let's simulate the trajectories!\n",
    "for i in range(1000):\n",
    "    io.calculate_v_update(europa, ganymede, callisto)\n",
    "    europa.calculate_v_update(io, ganymede, callisto)\n",
    "    ganymede.calculate_v_update(io, europa, callisto)\n",
    "    callisto.calculate_v_update(io, europa, ganymede)\n",
    "    \n",
    "    io.update_pv()\n",
    "    europa.update_pv()\n",
    "    ganymede.update_pv()\n",
    "    callisto.update_pv() "
   ]
  }
 ],
 "metadata": {
  "kernelspec": {
   "display_name": "Python 3",
   "language": "python",
   "name": "python3"
  },
  "language_info": {
   "codemirror_mode": {
    "name": "ipython",
    "version": 3
   },
   "file_extension": ".py",
   "mimetype": "text/x-python",
   "name": "python",
   "nbconvert_exporter": "python",
   "pygments_lexer": "ipython3",
   "version": "3.7.4"
  }
 },
 "nbformat": 4,
 "nbformat_minor": 2
}
