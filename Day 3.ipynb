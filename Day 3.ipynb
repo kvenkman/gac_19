{
 "cells": [
  {
   "cell_type": "markdown",
   "metadata": {},
   "source": [
    "# Part 1"
   ]
  },
  {
   "cell_type": "code",
   "execution_count": 1,
   "metadata": {},
   "outputs": [],
   "source": [
    "filename = 'day3_input'\n",
    "with open(filename, 'r') as f:\n",
    "    lines = f.readlines()"
   ]
  },
  {
   "cell_type": "code",
   "execution_count": 2,
   "metadata": {},
   "outputs": [],
   "source": [
    "wire1 = lines[0]\n",
    "wire2 = lines[1]\n",
    "\n",
    "wire1 = wire1.split(',')\n",
    "wire2 = wire2.split(',')"
   ]
  },
  {
   "cell_type": "code",
   "execution_count": 3,
   "metadata": {},
   "outputs": [],
   "source": [
    "def create_track(wire:list) -> dict:\n",
    "    x, y = 0, 0\n",
    "    path = {}\n",
    "    \n",
    "    path[(x, y)] = x + y\n",
    "    \n",
    "    direction_dict = {'U': (0, 1), 'R': (1, 0), 'D': (0, -1), 'L': (-1, 0)}\n",
    "    \n",
    "    for trace in wire:\n",
    "        direction = trace[0]        \n",
    "        step = direction_dict[direction]     \n",
    "        nsteps = int(trace[1:])        \n",
    "        \n",
    "        for i in range(nsteps):\n",
    "            \n",
    "            x += step[0]\n",
    "            y += step[1]\n",
    "            \n",
    "            if not((x, y) in path):\n",
    "                # The key is the coordinates, the value is the manhattan distance\n",
    "                path[(x, y)] = abs(x) + abs(y) \n",
    "\n",
    "    \n",
    "    return path"
   ]
  },
  {
   "cell_type": "code",
   "execution_count": 4,
   "metadata": {},
   "outputs": [],
   "source": [
    "wire1_path = create_track(wire1)\n",
    "wire2_path = create_track(wire2)\n",
    "\n",
    "if (len(wire1_path) < len(wire2_path)):\n",
    "    wire1_path, wire2_path = wire2_path, wire1_path"
   ]
  },
  {
   "cell_type": "code",
   "execution_count": 5,
   "metadata": {},
   "outputs": [
    {
     "name": "stdout",
     "output_type": "stream",
     "text": [
      "399\n"
     ]
    }
   ],
   "source": [
    "# List of manhattan distances for intersections\n",
    "intersection_distances = []\n",
    "\n",
    "for coordinates in wire2_path:\n",
    "    if coordinates in wire1_path:\n",
    "        intersection_distances.append(wire2_path[coordinates])\n",
    "\n",
    "# Sort the distances\n",
    "intersection_distances.sort()\n",
    "\n",
    "# Print the second element, \n",
    "# because the first element will be the origin, where both wires start\n",
    "print(intersection_distances[1]) "
   ]
  },
  {
   "cell_type": "markdown",
   "metadata": {},
   "source": [
    "# Part 2"
   ]
  },
  {
   "cell_type": "code",
   "execution_count": 6,
   "metadata": {},
   "outputs": [],
   "source": [
    "def create_track_p2(wire:list) -> dict:\n",
    "    x, y = 0, 0\n",
    "    path = {}\n",
    "    \n",
    "    path[(x, y)] = x + y\n",
    "    \n",
    "    direction_dict = {'U': (0, 1), 'R': (1, 0), 'D': (0, -1), 'L': (-1, 0)}\n",
    "    \n",
    "    step_counter = 1\n",
    "    \n",
    "    for trace in wire:\n",
    "        direction = trace[0]        \n",
    "        step = direction_dict[direction]     \n",
    "        nsteps = int(trace[1:])        \n",
    "        \n",
    "        for i in range(nsteps):\n",
    "            \n",
    "            x += step[0]\n",
    "            y += step[1]\n",
    "            \n",
    "            if not((x, y) in path):\n",
    "                # The key is still the coordinates, but the value is the number of steps\n",
    "                # taken to get there\n",
    "                path[(x, y)] = step_counter\n",
    "            \n",
    "            step_counter += 1\n",
    "\n",
    "    \n",
    "    return path"
   ]
  },
  {
   "cell_type": "code",
   "execution_count": 7,
   "metadata": {},
   "outputs": [
    {
     "name": "stdout",
     "output_type": "stream",
     "text": [
      "15678\n"
     ]
    }
   ],
   "source": [
    "wire1_path = create_track_p2(wire1)\n",
    "wire2_path = create_track_p2(wire2)\n",
    "\n",
    "if (len(wire1_path) < len(wire2_path)):\n",
    "    wire1_path, wire2_path = wire2_path, wire1_path\n",
    "\n",
    "# This will contain the sum of the number of steps taken to \n",
    "# each intersection point\n",
    "intersection_distances = []\n",
    "\n",
    "for coordinates in wire2_path:\n",
    "    if coordinates in wire1_path:\n",
    "        intersection_distances.append(wire2_path[coordinates] + wire1_path[coordinates])\n",
    "        \n",
    "intersection_distances.sort()\n",
    "\n",
    "\n",
    "print(intersection_distances[1])"
   ]
  }
 ],
 "metadata": {
  "kernelspec": {
   "display_name": "Python 3",
   "language": "python",
   "name": "python3"
  },
  "language_info": {
   "codemirror_mode": {
    "name": "ipython",
    "version": 3
   },
   "file_extension": ".py",
   "mimetype": "text/x-python",
   "name": "python",
   "nbconvert_exporter": "python",
   "pygments_lexer": "ipython3",
   "version": "3.6.5"
  }
 },
 "nbformat": 4,
 "nbformat_minor": 2
}
