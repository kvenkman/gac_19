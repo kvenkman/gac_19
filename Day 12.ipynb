{
 "cells": [
  {
   "cell_type": "markdown",
   "metadata": {},
   "source": [
    "# Part 1"
   ]
  },
  {
   "cell_type": "code",
   "execution_count": 1,
   "metadata": {},
   "outputs": [],
   "source": [
    "import numpy as np"
   ]
  },
  {
   "cell_type": "code",
   "execution_count": 2,
   "metadata": {},
   "outputs": [],
   "source": [
    "class moonsOfJupiter():\n",
    "    def __init__(self, input_line):\n",
    "        self.position = self.parse_input(input_line)\n",
    "        self.velocity = [0, 0, 0]\n",
    "        \n",
    "        self.dv = [0, 0, 0]\n",
    "        \n",
    "        self.x_period, self.y_period, self.z_period = 0, 0, 0\n",
    "        self.vx_period, self.vy_period, self.vz_period = 0, 0, 0\n",
    "        \n",
    "        self.xhistory, self.yhistory, self.zhistory = set(), set(), set()\n",
    "        self.vxhistory, self.vyhistory, self.vzhistory = set(), set(), set()\n",
    "\n",
    "    def __repr__(self):\n",
    "        return (self.position[0], self.position[1], self.position[2], \n",
    "                self.velocity[0], self.velocity[1], self.velocity[2])\n",
    "    \n",
    "    def parse_input(self, input_line):\n",
    "        input_line = input_line[1:-2].split(', ')\n",
    "        \n",
    "        x = int(input_line[0][2:])\n",
    "        y = int(input_line[1][2:])\n",
    "        z = int(input_line[2][2:])\n",
    "        \n",
    "        return [x, y, z]\n",
    "    \n",
    "    def calculate_v_update(self, moon1, moon2, moon3):\n",
    "        for i in range(3):\n",
    "            self.dv[i] = self.calculate_increment(self.position[i], moon1.position[i]) + \\\n",
    "                         self.calculate_increment(self.position[i], moon2.position[i]) + \\\n",
    "                         self.calculate_increment(self.position[i], moon3.position[i])\n",
    "    \n",
    "    def calculate_increment(self, one, two):\n",
    "        if (one<two):\n",
    "            return 1\n",
    "        elif(one>two):\n",
    "            return -1\n",
    "        else:\n",
    "            return 0\n",
    "        \n",
    "    def update_pv(self):\n",
    "        for i in range(3):\n",
    "            self.velocity[i] += self.dv[i]\n",
    "        for i in range(3):\n",
    "            self.position[i] += self.velocity[i]\n",
    "            \n",
    "        self.dv = [0, 0, 0]\n",
    "        \n",
    "    def calculate_pe(self):\n",
    "        pe = 0\n",
    "        for i in range(3):\n",
    "            pe += abs(self.position[i]) \n",
    "        return pe\n",
    "    \n",
    "    def calculate_ke(self):\n",
    "        ke = 0\n",
    "        for i in range(3):\n",
    "            ke += abs(self.velocity[i]) \n",
    "        return ke\n",
    "    \n",
    "    def calculate_te(self):\n",
    "        '''calculate total energy'''\n",
    "        total_energy = self.calculate_pe() * self.calculate_ke()\n",
    "        return total_energy\n",
    "    \n",
    "    def print_pv(self):\n",
    "        print([self.position[0], self.position[1], self.position[2], self.velocity[0], self.velocity[1], self.velocity[2]])\n",
    "        \n",
    "    def check_histories(self, i):\n",
    "        \n",
    "        if not self.x_period:\n",
    "            if self.position[0] not in self.xhistory:\n",
    "                self.xhistory.add(self.position[0])\n",
    "            else:\n",
    "                self.x_period = i\n",
    "                \n",
    "        if not self.y_period:\n",
    "            if self.position[1] not in self.yhistory:\n",
    "                self.yhistory.add(self.position[1])\n",
    "            else:\n",
    "                self.y_period = i\n",
    "\n",
    "        if not self.z_period:\n",
    "            if self.position[2] not in self.zhistory:\n",
    "                self.zhistory.add(self.position[2])\n",
    "            else:\n",
    "                self.z_period = i\n",
    "\n",
    "        if not self.vx_period:\n",
    "            if self.velocity[0] not in self.vxhistory:\n",
    "                self.vxhistory.add(self.velocity[0])\n",
    "            else:\n",
    "                self.vx_period = i\n",
    "                \n",
    "        if not self.vy_period:\n",
    "            if self.velocity[1] not in self.vyhistory:\n",
    "                self.vyhistory.add(self.velocity[1])\n",
    "            else:\n",
    "                self.vy_period = i\n",
    "\n",
    "        if not self.vz_period:\n",
    "            if self.velocity[2] not in self.vzhistory:\n",
    "                self.vzhistory.add(self.velocity[2])\n",
    "            else:\n",
    "                self.vz_period = i"
   ]
  },
  {
   "cell_type": "code",
   "execution_count": 3,
   "metadata": {},
   "outputs": [],
   "source": [
    "input_file = 'day12_input.txt'\n",
    "# input_file = 'day12_test_input.txt'\n",
    "with open(input_file, 'r') as f:\n",
    "    lines = f.readlines()\n",
    "    \n",
    "# Setting initial positions and velocities for the moons\n",
    "io = moonsOfJupiter(lines[0])\n",
    "europa = moonsOfJupiter(lines[1])\n",
    "ganymede = moonsOfJupiter(lines[2])\n",
    "callisto = moonsOfJupiter(lines[3])"
   ]
  },
  {
   "cell_type": "code",
   "execution_count": 4,
   "metadata": {},
   "outputs": [],
   "source": [
    "# Let's simulate the trajectories!\n",
    "for i in range(1000):\n",
    "    io.calculate_v_update(europa, ganymede, callisto)\n",
    "    europa.calculate_v_update(io, ganymede, callisto)\n",
    "    ganymede.calculate_v_update(io, europa, callisto)\n",
    "    callisto.calculate_v_update(io, europa, ganymede)\n",
    "    \n",
    "    io.update_pv()\n",
    "    europa.update_pv()\n",
    "    ganymede.update_pv()\n",
    "    callisto.update_pv() "
   ]
  },
  {
   "cell_type": "code",
   "execution_count": 5,
   "metadata": {},
   "outputs": [
    {
     "name": "stdout",
     "output_type": "stream",
     "text": [
      "183\n"
     ]
    }
   ],
   "source": [
    "print(io.calculate_te() + ganymede.calculate_te() + europa.calculate_te() + callisto.calculate_te())"
   ]
  },
  {
   "cell_type": "markdown",
   "metadata": {},
   "source": [
    "# Part 2"
   ]
  },
  {
   "cell_type": "code",
   "execution_count": 37,
   "metadata": {},
   "outputs": [],
   "source": [
    "input_file = 'day12_input.txt'\n",
    "# input_file = 'day12_test_input.txt'\n",
    "with open(input_file, 'r') as f:\n",
    "    lines = f.readlines()\n",
    "    \n",
    "# Setting initial positions and velocities for the moons\n",
    "io = moonsOfJupiter(lines[0])\n",
    "europa = moonsOfJupiter(lines[1])\n",
    "ganymede = moonsOfJupiter(lines[2])\n",
    "callisto = moonsOfJupiter(lines[3])\n",
    "\n",
    "io_initial = io.__repr__()\n",
    "europa_initial = europa.__repr__()\n",
    "ganymede_initial = ganymede.__repr__()\n",
    "callisto_initial = callisto.__repr__()"
   ]
  },
  {
   "cell_type": "code",
   "execution_count": 38,
   "metadata": {},
   "outputs": [],
   "source": [
    "io_period = [0]\n",
    "europa_period = [0]\n",
    "ganymede_period = [0]\n",
    "callisto_period = [0]"
   ]
  },
  {
   "cell_type": "code",
   "execution_count": 39,
   "metadata": {},
   "outputs": [],
   "source": [
    "# Let's simulate the trajectories!\n",
    "for i in range(500000):\n",
    "    io.calculate_v_update(europa, ganymede, callisto)\n",
    "    europa.calculate_v_update(io, ganymede, callisto)\n",
    "    ganymede.calculate_v_update(io, europa, callisto)\n",
    "    callisto.calculate_v_update(io, europa, ganymede)\n",
    "    \n",
    "    io.update_pv()\n",
    "    europa.update_pv()\n",
    "    ganymede.update_pv()\n",
    "    callisto.update_pv()\n",
    "    \n",
    "    if io.__repr__() == europa_initial:\n",
    "        io_period.append(i)\n",
    "        \n",
    "    if europa.__repr__() == io_initial:\n",
    "        europa_period.append(i)\n",
    "        \n",
    "    if ganymede.__repr__() == ganymede_initial:\n",
    "        ganymede_period.append(i)\n",
    "        \n",
    "    if callisto.__repr__() == callisto_initial:\n",
    "        callisto_period.append(i)"
   ]
  },
  {
   "cell_type": "code",
   "execution_count": 40,
   "metadata": {},
   "outputs": [
    {
     "data": {
      "text/plain": [
       "[0]"
      ]
     },
     "execution_count": 40,
     "metadata": {},
     "output_type": "execute_result"
    }
   ],
   "source": [
    "io_period"
   ]
  },
  {
   "cell_type": "code",
   "execution_count": 41,
   "metadata": {},
   "outputs": [
    {
     "data": {
      "text/plain": [
       "[0]"
      ]
     },
     "execution_count": 41,
     "metadata": {},
     "output_type": "execute_result"
    }
   ],
   "source": [
    "europa_period"
   ]
  },
  {
   "cell_type": "code",
   "execution_count": 35,
   "metadata": {},
   "outputs": [
    {
     "data": {
      "text/plain": [
       "[0,\n",
       " 2771,\n",
       " 5543,\n",
       " 8315,\n",
       " 11087,\n",
       " 13859,\n",
       " 16631,\n",
       " 19403,\n",
       " 22175,\n",
       " 24947,\n",
       " 27719,\n",
       " 30491,\n",
       " 33263,\n",
       " 36035,\n",
       " 38807,\n",
       " 41579,\n",
       " 44351,\n",
       " 47123,\n",
       " 49895,\n",
       " 52667,\n",
       " 55439,\n",
       " 58211,\n",
       " 60983,\n",
       " 63755,\n",
       " 66527,\n",
       " 69299,\n",
       " 72071,\n",
       " 74843,\n",
       " 77615,\n",
       " 80387,\n",
       " 83159,\n",
       " 85931,\n",
       " 88703,\n",
       " 91475,\n",
       " 94247,\n",
       " 97019,\n",
       " 99791]"
      ]
     },
     "execution_count": 35,
     "metadata": {},
     "output_type": "execute_result"
    }
   ],
   "source": [
    "ganymede_period"
   ]
  },
  {
   "cell_type": "code",
   "execution_count": 36,
   "metadata": {},
   "outputs": [
    {
     "data": {
      "text/plain": [
       "[0,\n",
       " 923,\n",
       " 1847,\n",
       " 2771,\n",
       " 3695,\n",
       " 4619,\n",
       " 5543,\n",
       " 6467,\n",
       " 7391,\n",
       " 8315,\n",
       " 9239,\n",
       " 10163,\n",
       " 11087,\n",
       " 12011,\n",
       " 12935,\n",
       " 13859,\n",
       " 14783,\n",
       " 15707,\n",
       " 16631,\n",
       " 17555,\n",
       " 18479,\n",
       " 19403,\n",
       " 20327,\n",
       " 21251,\n",
       " 22175,\n",
       " 23099,\n",
       " 24023,\n",
       " 24947,\n",
       " 25871,\n",
       " 26795,\n",
       " 27719,\n",
       " 28643,\n",
       " 29567,\n",
       " 30491,\n",
       " 31415,\n",
       " 32339,\n",
       " 33263,\n",
       " 34187,\n",
       " 35111,\n",
       " 36035,\n",
       " 36959,\n",
       " 37883,\n",
       " 38807,\n",
       " 39731,\n",
       " 40655,\n",
       " 41579,\n",
       " 42503,\n",
       " 43427,\n",
       " 44351,\n",
       " 45275,\n",
       " 46199,\n",
       " 47123,\n",
       " 48047,\n",
       " 48971,\n",
       " 49895,\n",
       " 50819,\n",
       " 51743,\n",
       " 52667,\n",
       " 53591,\n",
       " 54515,\n",
       " 55439,\n",
       " 56363,\n",
       " 57287,\n",
       " 58211,\n",
       " 59135,\n",
       " 60059,\n",
       " 60983,\n",
       " 61907,\n",
       " 62831,\n",
       " 63755,\n",
       " 64679,\n",
       " 65603,\n",
       " 66527,\n",
       " 67451,\n",
       " 68375,\n",
       " 69299,\n",
       " 70223,\n",
       " 71147,\n",
       " 72071,\n",
       " 72995,\n",
       " 73919,\n",
       " 74843,\n",
       " 75767,\n",
       " 76691,\n",
       " 77615,\n",
       " 78539,\n",
       " 79463,\n",
       " 80387,\n",
       " 81311,\n",
       " 82235,\n",
       " 83159,\n",
       " 84083,\n",
       " 85007,\n",
       " 85931,\n",
       " 86855,\n",
       " 87779,\n",
       " 88703,\n",
       " 89627,\n",
       " 90551,\n",
       " 91475,\n",
       " 92399,\n",
       " 93323,\n",
       " 94247,\n",
       " 95171,\n",
       " 96095,\n",
       " 97019,\n",
       " 97943,\n",
       " 98867,\n",
       " 99791]"
      ]
     },
     "execution_count": 36,
     "metadata": {},
     "output_type": "execute_result"
    }
   ],
   "source": [
    "callisto_period"
   ]
  },
  {
   "cell_type": "code",
   "execution_count": null,
   "metadata": {},
   "outputs": [],
   "source": []
  }
 ],
 "metadata": {
  "kernelspec": {
   "display_name": "Python 3",
   "language": "python",
   "name": "python3"
  },
  "language_info": {
   "codemirror_mode": {
    "name": "ipython",
    "version": 3
   },
   "file_extension": ".py",
   "mimetype": "text/x-python",
   "name": "python",
   "nbconvert_exporter": "python",
   "pygments_lexer": "ipython3",
   "version": "3.7.4"
  }
 },
 "nbformat": 4,
 "nbformat_minor": 2
}
