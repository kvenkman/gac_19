{
 "cells": [
  {
   "cell_type": "markdown",
   "metadata": {},
   "source": [
    "# Part 1"
   ]
  },
  {
   "cell_type": "code",
   "execution_count": 108,
   "metadata": {},
   "outputs": [],
   "source": [
    "import numpy as np"
   ]
  },
  {
   "cell_type": "code",
   "execution_count": 57,
   "metadata": {},
   "outputs": [],
   "source": [
    "class moonsOfJupiter():\n",
    "    def __init__(self, input_line):\n",
    "        self.position = self.parse_input(input_line)\n",
    "        self.velocity = [0, 0, 0]\n",
    "        \n",
    "        self.dv = [0, 0, 0]\n",
    "        \n",
    "        self.x_period, self.y_period, self.z_period = 0, 0, 0\n",
    "        self.vx_period, self.vy_period, self.vz_period = 0, 0, 0\n",
    "        \n",
    "        self.xhistory, self.yhistory, self.zhistory = set(), set(), set()\n",
    "        self.vxhistory, self.vyhistory, self.vzhistory = set(), set(), set()\n",
    "\n",
    "    def __repr__(self):\n",
    "        return (self.position[0], self.position[1], self.position[2], \n",
    "                self.velocity[0], self.velocity[1], self.velocity[2])\n",
    "    \n",
    "    def parse_input(self, input_line):\n",
    "        input_line = input_line[1:-2].split(', ')\n",
    "        \n",
    "        x = int(input_line[0][2:])\n",
    "        y = int(input_line[1][2:])\n",
    "        z = int(input_line[2][2:])\n",
    "        \n",
    "        return [x, y, z]\n",
    "    \n",
    "    def calculate_v_update(self, moon1, moon2, moon3):\n",
    "        for i in range(3):\n",
    "            self.dv[i] = self.calculate_increment(self.position[i], moon1.position[i]) + \\\n",
    "                         self.calculate_increment(self.position[i], moon2.position[i]) + \\\n",
    "                         self.calculate_increment(self.position[i], moon3.position[i])\n",
    "    \n",
    "    def calculate_increment(self, one, two):\n",
    "        if (one<two):\n",
    "            return 1\n",
    "        elif(one>two):\n",
    "            return -1\n",
    "        else:\n",
    "            return 0\n",
    "        \n",
    "    def update_pv(self):\n",
    "        for i in range(3):\n",
    "            self.velocity[i] += self.dv[i]\n",
    "        for i in range(3):\n",
    "            self.position[i] += self.velocity[i]\n",
    "            \n",
    "        self.dv = [0, 0, 0]\n",
    "        \n",
    "    def calculate_pe(self):\n",
    "        pe = 0\n",
    "        for i in range(3):\n",
    "            pe += abs(self.position[i]) \n",
    "        return pe\n",
    "    \n",
    "    def calculate_ke(self):\n",
    "        ke = 0\n",
    "        for i in range(3):\n",
    "            ke += abs(self.velocity[i]) \n",
    "        return ke\n",
    "    \n",
    "    def calculate_te(self):\n",
    "        '''calculate total energy'''\n",
    "        total_energy = self.calculate_pe() * self.calculate_ke()\n",
    "        return total_energy\n",
    "    \n",
    "    def print_pv(self):\n",
    "        print([self.position[0], self.position[1], self.position[2], self.velocity[0], self.velocity[1], self.velocity[2]])\n",
    "        \n",
    "    def check_histories(self, i):\n",
    "        \n",
    "        if not self.x_period:\n",
    "            if self.position[0] not in self.xhistory:\n",
    "                self.xhistory.add(self.position[0])\n",
    "            else:\n",
    "                self.x_period = i\n",
    "                \n",
    "        if not self.y_period:\n",
    "            if self.position[1] not in self.yhistory:\n",
    "                self.yhistory.add(self.position[1])\n",
    "            else:\n",
    "                self.y_period = i\n",
    "\n",
    "        if not self.z_period:\n",
    "            if self.position[2] not in self.zhistory:\n",
    "                self.zhistory.add(self.position[2])\n",
    "            else:\n",
    "                self.z_period = i\n",
    "\n",
    "        if not self.vx_period:\n",
    "            if self.velocity[0] not in self.vxhistory:\n",
    "                self.vxhistory.add(self.velocity[0])\n",
    "            else:\n",
    "                self.vx_period = i\n",
    "                \n",
    "        if not self.vy_period:\n",
    "            if self.velocity[1] not in self.vyhistory:\n",
    "                self.vyhistory.add(self.velocity[1])\n",
    "            else:\n",
    "                self.vy_period = i\n",
    "\n",
    "        if not self.vz_period:\n",
    "            if self.velocity[2] not in self.vzhistory:\n",
    "                self.vzhistory.add(self.velocity[2])\n",
    "            else:\n",
    "                self.vz_period = i"
   ]
  },
  {
   "cell_type": "code",
   "execution_count": 33,
   "metadata": {},
   "outputs": [],
   "source": [
    "input_file = 'day12_input.txt'\n",
    "# input_file = 'day12_test_input.txt'\n",
    "with open(input_file, 'r') as f:\n",
    "    lines = f.readlines()\n",
    "    \n",
    "# Setting initial positions and velocities for the moons\n",
    "io = moonsOfJupiter(lines[0])\n",
    "europa = moonsOfJupiter(lines[1])\n",
    "ganymede = moonsOfJupiter(lines[2])\n",
    "callisto = moonsOfJupiter(lines[3])"
   ]
  },
  {
   "cell_type": "code",
   "execution_count": 34,
   "metadata": {},
   "outputs": [],
   "source": [
    "# Let's simulate the trajectories!\n",
    "for i in range(1000):\n",
    "    io.calculate_v_update(europa, ganymede, callisto)\n",
    "    europa.calculate_v_update(io, ganymede, callisto)\n",
    "    ganymede.calculate_v_update(io, europa, callisto)\n",
    "    callisto.calculate_v_update(io, europa, ganymede)\n",
    "    \n",
    "    io.update_pv()\n",
    "    europa.update_pv()\n",
    "    ganymede.update_pv()\n",
    "    callisto.update_pv() "
   ]
  },
  {
   "cell_type": "code",
   "execution_count": 35,
   "metadata": {},
   "outputs": [
    {
     "name": "stdout",
     "output_type": "stream",
     "text": [
      "11384\n"
     ]
    }
   ],
   "source": [
    "print(io.calculate_te() + ganymede.calculate_te() + europa.calculate_te() + callisto.calculate_te())"
   ]
  },
  {
   "cell_type": "markdown",
   "metadata": {},
   "source": [
    "# Part 2"
   ]
  },
  {
   "cell_type": "code",
   "execution_count": 70,
   "metadata": {},
   "outputs": [],
   "source": [
    "input_file = 'day12_input.txt'\n",
    "# input_file = 'day12_test_input.txt'\n",
    "with open(input_file, 'r') as f:\n",
    "    lines = f.readlines()\n",
    "    \n",
    "# Setting initial positions and velocities for the moons\n",
    "io = moonsOfJupiter(lines[0])\n",
    "europa = moonsOfJupiter(lines[1])\n",
    "ganymede = moonsOfJupiter(lines[2])\n",
    "callisto = moonsOfJupiter(lines[3])"
   ]
  },
  {
   "cell_type": "code",
   "execution_count": 71,
   "metadata": {},
   "outputs": [],
   "source": [
    "# Let's simulate the trajectories!\n",
    "for i in range(10000):\n",
    "    \n",
    "    io.check_histories(i)\n",
    "    europa.check_histories(i)\n",
    "    ganymede.check_histories(i)\n",
    "    callisto.check_histories(i)\n",
    "    \n",
    "    io.calculate_v_update(europa, ganymede, callisto)\n",
    "    europa.calculate_v_update(io, ganymede, callisto)\n",
    "    ganymede.calculate_v_update(io, europa, callisto)\n",
    "    callisto.calculate_v_update(io, europa, ganymede)\n",
    "    \n",
    "    io.update_pv()\n",
    "    europa.update_pv()\n",
    "    ganymede.update_pv()\n",
    "    callisto.update_pv()\n",
    "    \n",
    "    #if(io.period_flag + europa.period_flag + ganymede.period_flag + callisto.period_flag == 4):\n",
    "    #   break"
   ]
  },
  {
   "cell_type": "code",
   "execution_count": 75,
   "metadata": {},
   "outputs": [
    {
     "name": "stdout",
     "output_type": "stream",
     "text": [
      "12 140 630 18\n"
     ]
    }
   ],
   "source": [
    "print(\n",
    "    np.lcm.reduce([io.x_period, io.y_period, io.z_period, io.vx_period, io.vy_period, io.vz_period]),\n",
    "np.lcm.reduce([europa.x_period, europa.y_period, europa.z_period, europa.vx_period, europa.vy_period, europa.vz_period]),\n",
    "np.lcm.reduce([ganymede.x_period, ganymede.y_period, ganymede.z_period, ganymede.vx_period, ganymede.vy_period, ganymede.vz_period]),\n",
    "np.lcm.reduce([callisto.x_period, callisto.y_period, callisto.z_period, callisto.vx_period, callisto.vy_period, callisto.vz_period]))"
   ]
  },
  {
   "cell_type": "code",
   "execution_count": 74,
   "metadata": {},
   "outputs": [
    {
     "data": {
      "text/plain": [
       "1260"
      ]
     },
     "execution_count": 74,
     "metadata": {},
     "output_type": "execute_result"
    }
   ],
   "source": [
    "np.lcm.reduce([12, 140, 630, 18])"
   ]
  },
  {
   "cell_type": "code",
   "execution_count": null,
   "metadata": {},
   "outputs": [],
   "source": []
  }
 ],
 "metadata": {
  "kernelspec": {
   "display_name": "Python 3",
   "language": "python",
   "name": "python3"
  },
  "language_info": {
   "codemirror_mode": {
    "name": "ipython",
    "version": 3
   },
   "file_extension": ".py",
   "mimetype": "text/x-python",
   "name": "python",
   "nbconvert_exporter": "python",
   "pygments_lexer": "ipython3",
   "version": "3.7.4"
  }
 },
 "nbformat": 4,
 "nbformat_minor": 2
}
