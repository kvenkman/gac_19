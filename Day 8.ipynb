{
 "cells": [
  {
   "cell_type": "markdown",
   "metadata": {},
   "source": [
    "# Part 1"
   ]
  },
  {
   "cell_type": "code",
   "execution_count": 1,
   "metadata": {},
   "outputs": [],
   "source": [
    "import numpy as np"
   ]
  },
  {
   "cell_type": "code",
   "execution_count": 2,
   "metadata": {},
   "outputs": [],
   "source": [
    "filename = 'day8_input'\n",
    "with open(filename, 'r') as f:\n",
    "    lines = f.readlines()\n",
    "\n",
    "pixels = (list(list(lines)[0]))[:-1] # Get rid of the last \"\\n\"\n",
    "pixels = [int(pixel) for pixel in pixels]\n",
    "#pixels = [0,2,2,2,1,1,2,2,2,2,1,2,0,0,0,0]"
   ]
  },
  {
   "cell_type": "code",
   "execution_count": 3,
   "metadata": {},
   "outputs": [],
   "source": [
    "nrows = 25\n",
    "ncolumns = 6\n",
    "npixels = nrows*ncolumns\n",
    "\n",
    "nlayers = len(pixels)//npixels\n",
    "pixels = np.array(pixels)\n",
    "#image_array = np.reshape(pixels, (nrows, ncolumns, nlayers))"
   ]
  },
  {
   "cell_type": "code",
   "execution_count": 4,
   "metadata": {},
   "outputs": [],
   "source": [
    "image_array = np.zeros((nrows, ncolumns, nlayers))\n",
    "columns = 0\n",
    "for i in range(0, nlayers):\n",
    "    for j in range(0, nrows):\n",
    "        image_array [j, :, i] = pixels[columns:columns+ncolumns]\n",
    "        columns += ncolumns"
   ]
  },
  {
   "cell_type": "code",
   "execution_count": 5,
   "metadata": {},
   "outputs": [
    {
     "name": "stdout",
     "output_type": "stream",
     "text": [
      "[[1. 2. 2. 2. 2. 2.]\n",
      " [2. 2. 2. 0. 2. 1.]\n",
      " [2. 2. 2. 2. 1. 2.]\n",
      " [2. 2. 0. 2. 2. 0.]\n",
      " [0. 2. 2. 1. 2. 2.]\n",
      " [2. 0. 2. 2. 2. 2.]\n",
      " [0. 2. 2. 0. 1. 2.]\n",
      " [2. 2. 2. 2. 2. 2.]\n",
      " [2. 2. 2. 2. 2. 2.]\n",
      " [0. 2. 2. 0. 2. 2.]\n",
      " [1. 2. 2. 2. 2. 2.]\n",
      " [2. 2. 0. 2. 1. 0.]\n",
      " [0. 0. 0. 2. 2. 2.]\n",
      " [2. 2. 2. 2. 2. 2.]\n",
      " [2. 2. 2. 1. 1. 2.]\n",
      " [2. 2. 2. 2. 2. 2.]\n",
      " [2. 2. 2. 0. 2. 2.]\n",
      " [2. 2. 2. 2. 2. 2.]\n",
      " [2. 2. 2. 2. 2. 2.]\n",
      " [2. 2. 2. 2. 2. 2.]\n",
      " [2. 2. 2. 2. 2. 2.]\n",
      " [0. 2. 2. 0. 2. 2.]\n",
      " [2. 2. 2. 2. 2. 2.]\n",
      " [2. 2. 2. 2. 2. 2.]\n",
      " [2. 2. 2. 2. 2. 2.]]\n",
      "17\n"
     ]
    }
   ],
   "source": [
    "print(image_array[:, :, 0])\n",
    "print((image_array[:, :, 0] == 0).sum())"
   ]
  },
  {
   "cell_type": "code",
   "execution_count": 6,
   "metadata": {},
   "outputs": [
    {
     "name": "stdout",
     "output_type": "stream",
     "text": [
      "6 6\n"
     ]
    }
   ],
   "source": [
    "zero_count, layer_count = None, None\n",
    "\n",
    "for i in range(nlayers):\n",
    "    temp = (image_array[:, :, i] == 0).sum()\n",
    "    \n",
    "    if(zero_count == None):\n",
    "        zero_count = temp\n",
    "        layer_count = i\n",
    "    else:\n",
    "        if(temp < zero_count):\n",
    "            zero_count = temp\n",
    "            layer_count = i\n",
    "            \n",
    "print(zero_count, layer_count)"
   ]
  },
  {
   "cell_type": "code",
   "execution_count": 7,
   "metadata": {},
   "outputs": [
    {
     "name": "stdout",
     "output_type": "stream",
     "text": [
      "1584 12 132\n"
     ]
    }
   ],
   "source": [
    "one_count = (image_array[:, :, layer_count] == 1).sum()\n",
    "two_count = (image_array[:, :, layer_count] == 2).sum()\n",
    "\n",
    "print(one_count*two_count, one_count, two_count)"
   ]
  },
  {
   "cell_type": "markdown",
   "metadata": {},
   "source": [
    "# Part 2"
   ]
  },
  {
   "cell_type": "code",
   "execution_count": 8,
   "metadata": {},
   "outputs": [],
   "source": [
    "#\n",
    "decoded_image = np.zeros((nrows, ncolumns))\n",
    "\n",
    "for i in range(nrows):\n",
    "    for j in range(ncolumns):\n",
    "        pixel_list = image_array[i, j, :]\n",
    "        \n",
    "        for pixel in pixel_list:\n",
    "            if(pixel == 0):\n",
    "                decoded_image[i, j] = 0\n",
    "                break\n",
    "            if(pixel == 1):\n",
    "                decoded_image[i, j] = 1\n",
    "                break\n",
    "        \n",
    "        #print(pixel_list, decoded_image[i, j])\n",
    "                \n",
    "            \n",
    "        #print(pixel_list, temp_output)\n",
    "        #decoded_image[i, j] = 1 if(temp_output == True) else 0"
   ]
  },
  {
   "cell_type": "code",
   "execution_count": 10,
   "metadata": {},
   "outputs": [
    {
     "data": {
      "image/png": "[encoded data removed]",
      "text/plain": [
       "<Figure size 432x288 with 1 Axes>"
      ]
     },
     "metadata": {
      "needs_background": "light"
     },
     "output_type": "display_data"
    }
   ],
   "source": [
    "from matplotlib import pyplot as plt\n",
    "\n",
    "plt.imshow(np.reshape(decoded_image, (6, 25))) # BECAUSE I MESSED UP ROWS AND COLUMNS, FUDGE!\n",
    "\n",
    "plt.show()"
   ]
  }
 ],
 "metadata": {
  "kernelspec": {
   "display_name": "Python 3",
   "language": "python",
   "name": "python3"
  },
  "language_info": {
   "codemirror_mode": {
    "name": "ipython",
    "version": 3
   },
   "file_extension": ".py",
   "mimetype": "text/x-python",
   "name": "python",
   "nbconvert_exporter": "python",
   "pygments_lexer": "ipython3",
   "version": "3.7.4"
  }
 },
 "nbformat": 4,
 "nbformat_minor": 2
}
