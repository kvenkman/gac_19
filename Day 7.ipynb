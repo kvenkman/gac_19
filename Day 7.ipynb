{
 "cells": [
  {
   "cell_type": "code",
   "execution_count": 149,
   "metadata": {},
   "outputs": [],
   "source": [
    "def opcode_computer(input1, input2, commands):\n",
    "    \n",
    "    line = commands\n",
    "    \n",
    "    count = 0\n",
    "    myinput = [str(input1), str(input2)]\n",
    "\n",
    "    intcode_dict = {'01':4, '02':4, '03':2, '04':2, '05':3, '06':3, '07':4, '08':4, '99':0}\n",
    "    \n",
    "    while(count < len(line)):\n",
    "        p_opcode = line[count]\n",
    "        p_opcode = p_opcode.zfill(5)\n",
    "        a, b, c, de = p_opcode[0], p_opcode[1], p_opcode[2], p_opcode[3:]\n",
    "\n",
    "\n",
    "        if(de == '01'):\n",
    "            parameter1 = line[int(line[count + 1])] if (c == '0') else line[count + 1]\n",
    "            parameter2 = line[int(line[count + 2])] if (b == '0') else line[count + 2]\n",
    "            parameter3 = int(line[count+3])\n",
    "\n",
    "            line[parameter3] = str(int(parameter1) + int(parameter2))\n",
    "            count += intcode_dict[de]\n",
    "            continue\n",
    "\n",
    "        if(de == '02'):\n",
    "            parameter1 = line[int(line[count + 1])] if (c == '0') else line[count + 1]\n",
    "            parameter2 = line[int(line[count + 2])] if (b == '0') else line[count + 2]\n",
    "            parameter3 = int(line[count+3])\n",
    "\n",
    "            line[parameter3] = str(int(parameter1) * int(parameter2))\n",
    "            count += intcode_dict[de]\n",
    "            continue\n",
    "\n",
    "        if(de == '03'):\n",
    "            parameter1 = int(line[count + 1])\n",
    "            line[parameter1] = myinput[0]\n",
    "            myinput.remove(myinput[0])\n",
    "            count += intcode_dict[de]\n",
    "            continue\n",
    "\n",
    "        if(de == '04'):\n",
    "            parameter1 = int(line[count + 1])\n",
    "            return (line[parameter1])\n",
    "            count += intcode_dict[de]\n",
    "            continue\n",
    "\n",
    "        if(de == '05'):\n",
    "            parameter1 = line[int(line[count + 1])] if (c == '0') else line[count + 1]\n",
    "            parameter2 = line[int(line[count + 2])] if (b == '0') else line[count + 2]\n",
    "\n",
    "            if(int(parameter1) != 0):\n",
    "                count = int(parameter2)\n",
    "            else:        \n",
    "                count += intcode_dict[de]\n",
    "\n",
    "            continue\n",
    "\n",
    "        if(de == '06'):\n",
    "            parameter1 = line[int(line[count + 1])] if (c == '0') else line[count + 1]\n",
    "            parameter2 = line[int(line[count + 2])] if (b == '0') else line[count + 2]\n",
    "\n",
    "            if(int(parameter1) == 0):\n",
    "                count = int(parameter2)\n",
    "            else:        \n",
    "                count += intcode_dict[de]\n",
    "\n",
    "            continue\n",
    "\n",
    "        if(de == '07'):\n",
    "            parameter1 = line[int(line[count + 1])] if (c == '0') else line[count + 1]\n",
    "            parameter2 = line[int(line[count + 2])] if (b == '0') else line[count + 2]\n",
    "            parameter3 = int(line[count+3])\n",
    "\n",
    "            parameter1 = int(parameter1)\n",
    "            parameter2 = int(parameter2)\n",
    "            if(parameter1 < parameter2):\n",
    "                line[parameter3] = '1'\n",
    "            else:        \n",
    "                line[parameter3] = '0'\n",
    "\n",
    "            count += intcode_dict[de]\n",
    "            continue\n",
    "\n",
    "        if(de == '08'):\n",
    "            parameter1 = line[int(line[count + 1])] if (c == '0') else line[count + 1]\n",
    "            parameter2 = line[int(line[count + 2])] if (b == '0') else line[count + 2]\n",
    "            parameter3 = int(line[count+3])\n",
    "\n",
    "            parameter1 = int(parameter1)\n",
    "            parameter2 = int(parameter2)\n",
    "            if(parameter1 == parameter2):\n",
    "                line[parameter3] = '1'\n",
    "            else:        \n",
    "                line[parameter3] = '0'\n",
    "\n",
    "            count += intcode_dict[de]\n",
    "            continue\n",
    "\n",
    "        if(de == '99'):\n",
    "            break"
   ]
  },
  {
   "cell_type": "code",
   "execution_count": 150,
   "metadata": {},
   "outputs": [],
   "source": [
    "from itertools import permutations \n",
    "def generate_phase_inputs():   \n",
    "  \n",
    "    phase_inputs = permutations([0, 1, 2, 3, 4])\n",
    "    \n",
    "    return list(phase_inputs)"
   ]
  },
  {
   "cell_type": "code",
   "execution_count": 151,
   "metadata": {},
   "outputs": [
    {
     "name": "stdout",
     "output_type": "stream",
     "text": [
      "175304\n",
      "215224\n",
      "216104\n",
      "224584\n",
      "344824\n",
      "345704\n",
      "354184\n",
      "368584\n",
      "368584 (2, 4, 0, 1, 3)\n"
     ]
    }
   ],
   "source": [
    "filename = 'day7_input'\n",
    "with open(filename, 'r') as f:\n",
    "    line = f.readline()\n",
    "\n",
    "commands_dict = line.split(',')\n",
    "\n",
    "phase_inputs = generate_phase_inputs()\n",
    "\n",
    "output = None\n",
    "\n",
    "for phase_input in phase_inputs:\n",
    "    aps, bps, cps, dps, eps = phase_input\n",
    "    a_input = 0\n",
    "    b_input = opcode_computer(aps, a_input, list(commands_dict))\n",
    "    c_input = opcode_computer(bps, b_input, list(commands_dict))\n",
    "    d_input = opcode_computer(cps, c_input, list(commands_dict))\n",
    "    e_input = opcode_computer(dps, d_input, list(commands_dict))\n",
    "    temp = int(opcode_computer(eps, e_input, list(commands_dict)))\n",
    "    if (output == None):    \n",
    "        output = temp\n",
    "        max_phase_input = phase_input\n",
    "    else:\n",
    "        if(temp > output):\n",
    "            output = temp\n",
    "            max_phase_input = phase_input\n",
    "            print(output)\n",
    "            \n",
    "    #print(output)\n",
    "print(output, max_phase_input)"
   ]
  },
  {
   "cell_type": "markdown",
   "metadata": {},
   "source": [
    "# Part 2"
   ]
  },
  {
   "cell_type": "code",
   "execution_count": 58,
   "metadata": {},
   "outputs": [],
   "source": [
    "from itertools import permutations \n",
    "def generate_phase_inputs2():   \n",
    "  \n",
    "    phase_inputs = permutations([5, 6, 7, 8, 9])\n",
    "    \n",
    "    return list(phase_inputs)"
   ]
  },
  {
   "cell_type": "code",
   "execution_count": 325,
   "metadata": {},
   "outputs": [
    {
     "name": "stdout",
     "output_type": "stream",
     "text": [
      "['3', '9', '101', '1', '9', '9', '4', '9', '99\\n'] ['33807716']\n"
     ]
    }
   ],
   "source": [
    "print(e_commands[514:], e_inputs)"
   ]
  },
  {
   "cell_type": "code",
   "execution_count": 353,
   "metadata": {},
   "outputs": [],
   "source": [
    "def opcode_computer(inputs, current_output, commands, location):\n",
    "    \n",
    "    line = commands\n",
    "    \n",
    "    count = location\n",
    "    myinput = inputs\n",
    "\n",
    "    intcode_dict = {'01':4, '02':4, '03':2, '04':2, '05':3, '06':3, '07':4, '08':4, '99':1}\n",
    "    output = current_output\n",
    "    \n",
    "    while(count < len(line)):\n",
    "        p_opcode = line[count]\n",
    "        if(p_opcode[-1] == \"\\n\"):\n",
    "            p_opcode = p_opcode[:-1]\n",
    "        p_opcode = p_opcode.zfill(5)\n",
    "        a, b, c, de = p_opcode[0], p_opcode[1], p_opcode[2], p_opcode[3:]\n",
    "        \n",
    "        if(de == '01'):\n",
    "            parameter1 = line[int(line[count + 1])] if (c == '0') else line[count + 1]\n",
    "            parameter2 = line[int(line[count + 2])] if (b == '0') else line[count + 2]\n",
    "            parameter3 = int(line[count+3])\n",
    "\n",
    "            line[parameter3] = str(int(parameter1) + int(parameter2))\n",
    "            count += intcode_dict[de]\n",
    "            continue\n",
    "\n",
    "        if(de == '02'):\n",
    "            parameter1 = line[int(line[count + 1])] if (c == '0') else line[count + 1]\n",
    "            parameter2 = line[int(line[count + 2])] if (b == '0') else line[count + 2]\n",
    "            parameter3 = int(line[count+3])\n",
    "\n",
    "            line[parameter3] = str(int(parameter1) * int(parameter2))\n",
    "            count += intcode_dict[de]\n",
    "            continue\n",
    "\n",
    "        if(de == '03'):\n",
    "            parameter1 = int(line[count + 1])\n",
    "            \n",
    "            if(len(myinput) > 0):\n",
    "                line[parameter1] = myinput[0]\n",
    "                myinput = myinput[1:]\n",
    "                count += intcode_dict[de]\n",
    "                continue\n",
    "            else:\n",
    "                return myinput, output, count\n",
    "\n",
    "        if(de == '04'):\n",
    "            parameter1 = int(line[count + 1])\n",
    "            output = line[parameter1]\n",
    "            count += intcode_dict[de]\n",
    "            continue\n",
    "\n",
    "        if(de == '05'):\n",
    "            parameter1 = line[int(line[count + 1])] if (c == '0') else line[count + 1]\n",
    "            parameter2 = line[int(line[count + 2])] if (b == '0') else line[count + 2]\n",
    "\n",
    "            if(int(parameter1) != 0):\n",
    "                count = int(parameter2)\n",
    "            else:        \n",
    "                count += intcode_dict[de]\n",
    "\n",
    "            continue\n",
    "\n",
    "        if(de == '06'):\n",
    "            parameter1 = line[int(line[count + 1])] if (c == '0') else line[count + 1]\n",
    "            parameter2 = line[int(line[count + 2])] if (b == '0') else line[count + 2]\n",
    "\n",
    "            if(int(parameter1) == 0):\n",
    "                count = int(parameter2)\n",
    "            else:        \n",
    "                count += intcode_dict[de]\n",
    "\n",
    "            continue\n",
    "\n",
    "        if(de == '07'):\n",
    "            parameter1 = line[int(line[count + 1])] if (c == '0') else line[count + 1]\n",
    "            parameter2 = line[int(line[count + 2])] if (b == '0') else line[count + 2]\n",
    "            parameter3 = int(line[count+3])\n",
    "\n",
    "            parameter1 = int(parameter1)\n",
    "            parameter2 = int(parameter2)\n",
    "            if(parameter1 < parameter2):\n",
    "                line[parameter3] = '1'\n",
    "            else:        \n",
    "                line[parameter3] = '0'\n",
    "\n",
    "            count += intcode_dict[de]\n",
    "            continue\n",
    "\n",
    "        if(de == '08'):\n",
    "            parameter1 = line[int(line[count + 1])] if (c == '0') else line[count + 1]\n",
    "            parameter2 = line[int(line[count + 2])] if (b == '0') else line[count + 2]\n",
    "            parameter3 = int(line[count+3])\n",
    "\n",
    "            parameter1 = int(parameter1)\n",
    "            parameter2 = int(parameter2)\n",
    "            if(parameter1 == parameter2):\n",
    "                line[parameter3] = '1'\n",
    "            else:        \n",
    "                line[parameter3] = '0'\n",
    "\n",
    "            count += intcode_dict[de]\n",
    "            continue\n",
    "\n",
    "        if(de == '99'):\n",
    "            count += intcode_dict[de]\n",
    "            return myinput, output, -1\n",
    "    \n",
    "    #return myinput, output, -1"
   ]
  },
  {
   "cell_type": "code",
   "execution_count": 347,
   "metadata": {},
   "outputs": [
    {
     "name": "stdout",
     "output_type": "stream",
     "text": [
      "[9, '5']\n",
      "['30']\n",
      "['124']\n",
      "['514']\n",
      "['4124']\n",
      "['16507']\n",
      "['264120']\n",
      "['1056488']\n",
      "['4225964']\n",
      "['33807716']\n"
     ]
    },
    {
     "ename": "KeyboardInterrupt",
     "evalue": "",
     "output_type": "error",
     "traceback": [
      "\u001b[0;31m---------------------------------------------------------------------------\u001b[0m",
      "\u001b[0;31mKeyboardInterrupt\u001b[0m                         Traceback (most recent call last)",
      "\u001b[0;32m<ipython-input-347-7587ea2fb909>\u001b[0m in \u001b[0;36m<module>\u001b[0;34m\u001b[0m\n\u001b[1;32m     57\u001b[0m             \u001b[0mprint\u001b[0m\u001b[0;34m(\u001b[0m\u001b[0me_inputs\u001b[0m\u001b[0;34m)\u001b[0m\u001b[0;34m\u001b[0m\u001b[0;34m\u001b[0m\u001b[0m\n\u001b[1;32m     58\u001b[0m             \u001b[0;31m#print('e: ',e_inputs, e_output, locatione)\u001b[0m\u001b[0;34m\u001b[0m\u001b[0;34m\u001b[0m\u001b[0;34m\u001b[0m\u001b[0m\n\u001b[0;32m---> 59\u001b[0;31m             \u001b[0me_inputs\u001b[0m\u001b[0;34m,\u001b[0m \u001b[0me_output\u001b[0m\u001b[0;34m,\u001b[0m \u001b[0mlocatione\u001b[0m \u001b[0;34m=\u001b[0m \u001b[0mopcode_computer\u001b[0m\u001b[0;34m(\u001b[0m\u001b[0me_inputs\u001b[0m\u001b[0;34m,\u001b[0m \u001b[0me_output\u001b[0m\u001b[0;34m,\u001b[0m \u001b[0me_commands\u001b[0m\u001b[0;34m,\u001b[0m \u001b[0mlocatione\u001b[0m\u001b[0;34m)\u001b[0m \u001b[0;31m# Call to amplifier E\u001b[0m\u001b[0;34m\u001b[0m\u001b[0;34m\u001b[0m\u001b[0m\n\u001b[0m\u001b[1;32m     60\u001b[0m             \u001b[0;32mif\u001b[0m\u001b[0;34m(\u001b[0m\u001b[0me_output\u001b[0m \u001b[0;34m!=\u001b[0m \u001b[0;32mNone\u001b[0m\u001b[0;34m)\u001b[0m\u001b[0;34m:\u001b[0m\u001b[0;34m\u001b[0m\u001b[0;34m\u001b[0m\u001b[0m\n\u001b[1;32m     61\u001b[0m                 \u001b[0ma_inputs\u001b[0m\u001b[0;34m.\u001b[0m\u001b[0mappend\u001b[0m\u001b[0;34m(\u001b[0m\u001b[0me_output\u001b[0m\u001b[0;34m)\u001b[0m\u001b[0;34m\u001b[0m\u001b[0;34m\u001b[0m\u001b[0m\n",
      "\u001b[0;32m<ipython-input-342-2c65fe48c3d9>\u001b[0m in \u001b[0;36mopcode_computer\u001b[0;34m(inputs, current_output, commands, location)\u001b[0m\n\u001b[1;32m     12\u001b[0m         \u001b[0mp_opcode\u001b[0m \u001b[0;34m=\u001b[0m \u001b[0mline\u001b[0m\u001b[0;34m[\u001b[0m\u001b[0mcount\u001b[0m\u001b[0;34m]\u001b[0m\u001b[0;34m\u001b[0m\u001b[0;34m\u001b[0m\u001b[0m\n\u001b[1;32m     13\u001b[0m         \u001b[0mp_opcode\u001b[0m \u001b[0;34m=\u001b[0m \u001b[0mp_opcode\u001b[0m\u001b[0;34m.\u001b[0m\u001b[0mzfill\u001b[0m\u001b[0;34m(\u001b[0m\u001b[0;36m5\u001b[0m\u001b[0;34m)\u001b[0m\u001b[0;34m\u001b[0m\u001b[0;34m\u001b[0m\u001b[0m\n\u001b[0;32m---> 14\u001b[0;31m         \u001b[0ma\u001b[0m\u001b[0;34m,\u001b[0m \u001b[0mb\u001b[0m\u001b[0;34m,\u001b[0m \u001b[0mc\u001b[0m\u001b[0;34m,\u001b[0m \u001b[0mde\u001b[0m \u001b[0;34m=\u001b[0m \u001b[0mp_opcode\u001b[0m\u001b[0;34m[\u001b[0m\u001b[0;36m0\u001b[0m\u001b[0;34m]\u001b[0m\u001b[0;34m,\u001b[0m \u001b[0mp_opcode\u001b[0m\u001b[0;34m[\u001b[0m\u001b[0;36m1\u001b[0m\u001b[0;34m]\u001b[0m\u001b[0;34m,\u001b[0m \u001b[0mp_opcode\u001b[0m\u001b[0;34m[\u001b[0m\u001b[0;36m2\u001b[0m\u001b[0;34m]\u001b[0m\u001b[0;34m,\u001b[0m \u001b[0mp_opcode\u001b[0m\u001b[0;34m[\u001b[0m\u001b[0;36m3\u001b[0m\u001b[0;34m:\u001b[0m\u001b[0;34m]\u001b[0m\u001b[0;34m\u001b[0m\u001b[0;34m\u001b[0m\u001b[0m\n\u001b[0m\u001b[1;32m     15\u001b[0m \u001b[0;34m\u001b[0m\u001b[0m\n\u001b[1;32m     16\u001b[0m         \u001b[0;32mif\u001b[0m\u001b[0;34m(\u001b[0m\u001b[0mde\u001b[0m \u001b[0;34m==\u001b[0m \u001b[0;34m'01'\u001b[0m\u001b[0;34m)\u001b[0m\u001b[0;34m:\u001b[0m\u001b[0;34m\u001b[0m\u001b[0;34m\u001b[0m\u001b[0m\n",
      "\u001b[0;31mKeyboardInterrupt\u001b[0m: "
     ]
    }
   ],
   "source": [
    "filename = 'day7_input'\n",
    "with open(filename, 'r') as f:\n",
    "    line = f.readline()\n",
    "\n",
    "commands_dict = line.split(',')\n",
    "phase_inputs = generate_phase_inputs2()\n",
    "output = None\n",
    "\n",
    "for phase_input in phase_inputs:\n",
    "    aps, bps, cps, dps, eps = phase_input\n",
    "    \n",
    "    a_input = 0\n",
    "    program_location = 0\n",
    "    \n",
    "    a_commands = list(commands_dict)\n",
    "    b_commands = list(commands_dict)\n",
    "    c_commands = list(commands_dict)\n",
    "    d_commands = list(commands_dict)\n",
    "    e_commands = list(commands_dict)\n",
    "    \n",
    "    a_inputs = [aps, '0']\n",
    "    b_inputs = [bps]\n",
    "    c_inputs = [cps]\n",
    "    d_inputs = [dps]\n",
    "    e_inputs = [eps]\n",
    "    \n",
    "    a_output = None\n",
    "    b_output = None\n",
    "    c_output = None\n",
    "    d_output = None\n",
    "    e_output = None\n",
    "    \n",
    "    locationa, locationb, locationc, locationd, locatione, = 0, 0, 0, 0, 0\n",
    "\n",
    "    while (locationa + locationb + locationc + locationd + locatione != -5):\n",
    "        if(locationa != -1):\n",
    "            #print('a: ',a_inputs, a_output, locationa)\n",
    "            a_inputs, a_output, locationa = opcode_computer(a_inputs, a_output, a_commands, locationa) # Call to amplifier A\n",
    "            if(a_output != None):\n",
    "                b_inputs.append(a_output)\n",
    "        if(locationb != -1):\n",
    "            #print('b: ',b_inputs, b_output, locationb)\n",
    "            b_inputs, b_output, locationb = opcode_computer(b_inputs, b_output, b_commands, locationb) # Call to amplifier B\n",
    "            if(b_output != None):\n",
    "                c_inputs.append(b_output)\n",
    "        if(locationc != -1):\n",
    "            #print('c: ',c_inputs, c_output, locationc)\n",
    "            c_inputs, c_output, locationc = opcode_computer(c_inputs, c_output, c_commands, locationc) # Call to amplifier C\n",
    "            if(c_output != None):\n",
    "                d_inputs.append(c_output)\n",
    "        if(locationd != -1):\n",
    "            #print('d: ',d_inputs, d_output, locationd)\n",
    "            d_inputs, d_output, locationd = opcode_computer(d_inputs, d_output, d_commands, locationd) # Call to amplifier D\n",
    "            if(d_output != None):\n",
    "                e_inputs.append(d_output)\n",
    "        if(locatione != -1):\n",
    "            print(e_inputs)\n",
    "            #print('e: ',e_inputs, e_output, locatione)\n",
    "            e_inputs, e_output, locatione = opcode_computer(e_inputs, e_output, e_commands, locatione) # Call to amplifier E\n",
    "            if(e_output != None):\n",
    "                a_inputs.append(e_output)\n",
    "            \n",
    "    if(output == None):\n",
    "        output = int(e_output)\n",
    "        max_phase_input = phase_input\n",
    "    else:\n",
    "        if(int(e_output) > output):\n",
    "            output = int(e_output)\n",
    "            max_phase_input = phase_input\n",
    "            print(output, phase_input)\n",
    "            #break\n",
    "\n",
    "print(output, max_phase_input)"
   ]
  },
  {
   "cell_type": "code",
   "execution_count": 348,
   "metadata": {},
   "outputs": [
    {
     "name": "stdout",
     "output_type": "stream",
     "text": [
      "[] [] [] [] ['33807716']\n"
     ]
    }
   ],
   "source": [
    "print(a_inputs, b_inputs, c_inputs, d_inputs, e_inputs)"
   ]
  },
  {
   "cell_type": "code",
   "execution_count": 349,
   "metadata": {},
   "outputs": [
    {
     "name": "stdout",
     "output_type": "stream",
     "text": [
      "-1 -1 -1 -1 514\n"
     ]
    }
   ],
   "source": [
    "print(locationa, locationb, locationc, locationd, locatione)"
   ]
  },
  {
   "cell_type": "code",
   "execution_count": 351,
   "metadata": {},
   "outputs": [
    {
     "name": "stdout",
     "output_type": "stream",
     "text": [
      "['3', '8', '1001', '8', '10', '8', '105', '1', '19', '33807717', '21', '38', '55', '72', '93', '118', '199', '280', '361', '442', '99999', '3', '9', '1001', '9', '2', '9', '1002', '9', '5', '9', '101', '4', '9', '9', '4', '9', '99', '3', '9', '1002', '9', '3', '9', '1001', '9', '5', '9', '1002', '9', '4', '9', '4', '9', '99', '3', '9', '101', '4', '9', '9', '1002', '9', '3', '9', '1001', '9', '4', '9', '4', '9', '99', '3', '9', '1002', '9', '4', '9', '1001', '9', '4', '9', '102', '5', '9', '9', '1001', '9', '4', '9', '4', '9', '99', '3', '9', '101', '3', '9', '9', '1002', '9', '3', '9', '1001', '9', '3', '9', '102', '5', '9', '9', '101', '4', '9', '9', '4', '9', '99', '3', '9', '101', '1', '9', '9', '4', '9', '3', '9', '1001', '9', '1', '9', '4', '9', '3', '9', '102', '2', '9', '9', '4', '9', '3', '9', '101', '2', '9', '9', '4', '9', '3', '9', '1001', '9', '1', '9', '4', '9', '3', '9', '102', '2', '9', '9', '4', '9', '3', '9', '1001', '9', '1', '9', '4', '9', '3', '9', '102', '2', '9', '9', '4', '9', '3', '9', '102', '2', '9', '9', '4', '9', '3', '9', '1002', '9', '2', '9', '4', '9', '99', '3', '9', '1001', '9', '1', '9', '4', '9', '3', '9', '1002', '9', '2', '9', '4', '9', '3', '9', '1001', '9', '2', '9', '4', '9', '3', '9', '1002', '9', '2', '9', '4', '9', '3', '9', '101', '2', '9', '9', '4', '9', '3', '9', '102', '2', '9', '9', '4', '9', '3', '9', '102', '2', '9', '9', '4', '9', '3', '9', '102', '2', '9', '9', '4', '9', '3', '9', '101', '1', '9', '9', '4', '9', '3', '9', '101', '1', '9', '9', '4', '9', '99', '3', '9', '101', '2', '9', '9', '4', '9', '3', '9', '101', '1', '9', '9', '4', '9', '3', '9', '101', '1', '9', '9', '4', '9', '3', '9', '102', '2', '9', '9', '4', '9', '3', '9', '1002', '9', '2', '9', '4', '9', '3', '9', '101', '2', '9', '9', '4', '9', '3', '9', '1002', '9', '2', '9', '4', '9', '3', '9', '1001', '9', '2', '9', '4', '9', '3', '9', '1002', '9', '2', '9', '4', '9', '3', '9', '101', '1', '9', '9', '4', '9', '99', '3', '9', '1001', '9', '1', '9', '4', '9', '3', '9', '1002', '9', '2', '9', '4', '9', '3', '9', '1001', '9', '1', '9', '4', '9', '3', '9', '1001', '9', '2', '9', '4', '9', '3', '9', '102', '2', '9', '9', '4', '9', '3', '9', '1001', '9', '1', '9', '4', '9', '3', '9', '1002', '9', '2', '9', '4', '9', '3', '9', '1001', '9', '2', '9', '4', '9', '3', '9', '1001', '9', '2', '9', '4', '9', '3', '9', '102', '2', '9', '9', '4', '9', '99', '3', '9', '101', '1', '9', '9', '4', '9', '3', '9', '1002', '9', '2', '9', '4', '9', '3', '9', '101', '2', '9', '9', '4', '9', '3', '9', '1002', '9', '2', '9', '4', '9', '3', '9', '101', '2', '9', '9', '4', '9', '3', '9', '1002', '9', '2', '9', '4', '9', '3', '9', '101', '1', '9', '9', '4', '9', '3', '9', '101', '2', '9', '9', '4', '9', '3', '9', '1002', '9', '2', '9', '4', '9', '3', '9', '101', '1', '9', '9', '4', '9', '99\\n']\n"
     ]
    }
   ],
   "source": [
    "print(e_commands)"
   ]
  },
  {
   "cell_type": "code",
   "execution_count": 352,
   "metadata": {},
   "outputs": [
    {
     "name": "stdout",
     "output_type": "stream",
     "text": [
      "e:  ['33807716'] 8451928 514\n"
     ]
    }
   ],
   "source": [
    "print('e: ',e_inputs, e_output, locatione)"
   ]
  },
  {
   "cell_type": "code",
   "execution_count": 346,
   "metadata": {},
   "outputs": [
    {
     "name": "stdout",
     "output_type": "stream",
     "text": [
      "['3', '9', '101', '1', '9', '9', '4', '9', '99\\n']\n"
     ]
    }
   ],
   "source": [
    "print(e_commands[514:])"
   ]
  },
  {
   "cell_type": "code",
   "execution_count": 341,
   "metadata": {},
   "outputs": [
    {
     "name": "stdout",
     "output_type": "stream",
     "text": [
      "16903856 16903857 16903858 33807716 8451928\n"
     ]
    }
   ],
   "source": [
    "print(a_output,b_output,c_output,d_output,e_output)"
   ]
  },
  {
   "cell_type": "code",
   "execution_count": null,
   "metadata": {},
   "outputs": [],
   "source": []
  }
 ],
 "metadata": {
  "kernelspec": {
   "display_name": "Python 3",
   "language": "python",
   "name": "python3"
  },
  "language_info": {
   "codemirror_mode": {
    "name": "ipython",
    "version": 3
   },
   "file_extension": ".py",
   "mimetype": "text/x-python",
   "name": "python",
   "nbconvert_exporter": "python",
   "pygments_lexer": "ipython3",
   "version": "3.7.4"
  }
 },
 "nbformat": 4,
 "nbformat_minor": 2
}
