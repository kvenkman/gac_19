{
 "cells": [
  {
   "cell_type": "markdown",
   "metadata": {},
   "source": [
    "# Part 1"
   ]
  },
  {
   "cell_type": "code",
   "execution_count": 1,
   "metadata": {},
   "outputs": [
    {
     "name": "stdout",
     "output_type": "stream",
     "text": [
      "172930-683082\n"
     ]
    }
   ],
   "source": [
    "puzzle_input = \"172930-683082\"\n",
    "print(puzzle_input)"
   ]
  },
  {
   "cell_type": "code",
   "execution_count": 2,
   "metadata": {},
   "outputs": [
    {
     "name": "stdout",
     "output_type": "stream",
     "text": [
      "1675\n"
     ]
    }
   ],
   "source": [
    "# Brute force it\n",
    "count = 0\n",
    "mylist = []\n",
    "for i in range(172930, 683083):\n",
    "    str_i = str(i)\n",
    "    flag = 0\n",
    "    for j in range(1, len(str_i)):\n",
    "        if int(str_i[j]) < int(str_i[j-1]):\n",
    "            flag = 1\n",
    "            break\n",
    "    if flag != 1:\n",
    "        for j in range(1, len(str_i)):\n",
    "            if str_i[j-1] == str_i[j]:\n",
    "                count += 1\n",
    "                mylist += [str_i]\n",
    "                break\n",
    "       \n",
    "        \n",
    "print(count)"
   ]
  },
  {
   "cell_type": "markdown",
   "metadata": {},
   "source": [
    "# Part 2"
   ]
  },
  {
   "cell_type": "code",
   "execution_count": 12,
   "metadata": {},
   "outputs": [
    {
     "name": "stdout",
     "output_type": "stream",
     "text": [
      "1142\n"
     ]
    }
   ],
   "source": [
    "# Brute force it\n",
    "count = 0\n",
    "mylist = []\n",
    "for i in range(172930, 683083):\n",
    "    str_i = str(i)\n",
    "    flag = 0\n",
    "    for j in range(1, len(str_i)):\n",
    "        if int(str_i[j]) < int(str_i[j-1]):\n",
    "            flag = 1\n",
    "            break\n",
    "    if flag != 1:\n",
    "        test_set = set(str_i)\n",
    "        flag = 0        \n",
    "        for c in test_set:\n",
    "            if(str_i.count(c) == 2):\n",
    "                flag = 1\n",
    "                break\n",
    "            \n",
    "                \n",
    "                \n",
    "        if(flag == 1):\n",
    "            mylist += [str_i]\n",
    "            count += 1\n",
    "\n",
    "       \n",
    "        \n",
    "print(count)"
   ]
  }
 ],
 "metadata": {
  "kernelspec": {
   "display_name": "Python 3",
   "language": "python",
   "name": "python3"
  },
  "language_info": {
   "codemirror_mode": {
    "name": "ipython",
    "version": 3
   },
   "file_extension": ".py",
   "mimetype": "text/x-python",
   "name": "python",
   "nbconvert_exporter": "python",
   "pygments_lexer": "ipython3",
   "version": "3.6.5"
  }
 },
 "nbformat": 4,
 "nbformat_minor": 2
}
