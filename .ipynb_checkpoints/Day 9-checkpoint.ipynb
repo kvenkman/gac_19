{
 "cells": [
  {
   "cell_type": "code",
   "execution_count": 50,
   "metadata": {},
   "outputs": [],
   "source": [
    "from collections import defaultdict"
   ]
  },
  {
   "cell_type": "code",
   "execution_count": 327,
   "metadata": {},
   "outputs": [],
   "source": [
    "class intCodeComputer:\n",
    "    def __init__(self, filename):\n",
    "        self.source_file = filename\n",
    "        self.program = defaultdict(int)\n",
    "        with open(self.source_file, 'r') as f:\n",
    "            line = f.readline()\n",
    "        for i, code in enumerate(line.split(',')):\n",
    "            self.program[i] = code\n",
    "        #self.program = line.split(',')\n",
    "        self.memory_location = 0  \n",
    "        self.relative_base = 0\n",
    "        self.intcode_dict = {'01':4, '02':4, '03':2, '04':2, '05':3, '06':3, '07':4, '08':4, \n",
    "                             '09':2, '99':0}\n",
    "        \n",
    "    def process_parameter(self, parameter_mode, offset):\n",
    "        if(parameter_mode == '0'):\n",
    "            return self.program[int(self.program[self.memory_location + offset])]\n",
    "        elif(parameter_mode == '1'):\n",
    "            return self.program[self.memory_location + offset]\n",
    "        elif(parameter_mode == '2'):\n",
    "            value = int(self.program[self.memory_location + offset])\n",
    "            return self.program[self.relative_base + value] \n",
    "            \n",
    "    def execute_program(self, user_input = None):\n",
    "        while(True):\n",
    "            p_opcode = self.program[self.memory_location]\n",
    "            p_opcode = p_opcode.zfill(5)\n",
    "            a, b, c, de = p_opcode[0], p_opcode[1], p_opcode[2], p_opcode[3:]\n",
    "\n",
    "            if(de == '01'):\n",
    "                parameter1 = self.process_parameter(c, 1)\n",
    "                parameter2 = self.process_parameter(b, 2) # self.program[int(self.program[self.memory_location + 2])] if (b == '0') else self.program[self.memory_location + 2]\n",
    "                parameter3 = int(self.program[self.memory_location+3])\n",
    "\n",
    "                self.program[parameter3] = str(int(parameter1) + int(parameter2))\n",
    "                self.memory_location += self.intcode_dict[de]\n",
    "                continue\n",
    "\n",
    "            if(de == '02'):\n",
    "                parameter1 = self.process_parameter(c, 1) # self.program[int(self.program[self.memory_location + 1])] if (c == '0') else self.program[self.memory_location + 1]\n",
    "                parameter2 = self.process_parameter(b, 2) # self.program[int(self.program[self.memory_location + 2])] if (b == '0') else self.program[self.memory_location + 2]\n",
    "                parameter3 = int(self.program[self.memory_location+3])\n",
    "\n",
    "                self.program[parameter3] = str(int(parameter1) * int(parameter2))\n",
    "                self.memory_location += self.intcode_dict[de]\n",
    "                continue\n",
    "\n",
    "            if(de == '03'):\n",
    "                if(c == '0'):\n",
    "                    parameter1 = int(self.program[self.memory_location + 1])\n",
    "                elif(c == '1'):\n",
    "                    parameter1 = int(self.memory_location + 1)                    \n",
    "                elif(c == '2'):\n",
    "                    parameter1 = self.relative_base + int(self.memory_location + 1)\n",
    "                    \n",
    "                self.program[parameter1] = user_input                    \n",
    "                self.memory_location += self.intcode_dict[de]\n",
    "                continue\n",
    "\n",
    "            if(de == '04'):\n",
    "                parameter1 = self.process_parameter(c, 1) # int(self.program[self.memory_location + 1])\n",
    "                print(self.memory_location, a, b, c, de, parameter1)\n",
    "                self.memory_location += self.intcode_dict[de]\n",
    "                continue\n",
    "\n",
    "            if(de == '05'):\n",
    "                parameter1 = self.process_parameter(c, 1) # self.program[int(self.program[self.memory_location + 1])] if (c == '0') else self.program[self.memory_location + 1]\n",
    "                parameter2 = self.process_parameter(b, 2) # self.program[int(self.program[self.memory_location + 2])] if (b == '0') else self.program[self.memory_location + 2]\n",
    "\n",
    "                if(int(parameter1) != 0):\n",
    "                    self.memory_location = int(parameter2)\n",
    "                else:        \n",
    "                    self.memory_location += self.intcode_dict[de]\n",
    "\n",
    "                continue\n",
    "\n",
    "            if(de == '06'):\n",
    "                parameter1 = self.process_parameter(c, 1) # self.program[int(self.program[self.memory_location + 1])] if (c == '0') else self.program[self.memory_location + 1]\n",
    "                parameter2 = self.process_parameter(b, 2) # self.program[int(self.program[self.memory_location + 2])] if (b == '0') else self.program[self.memory_location + 2]\n",
    "\n",
    "                if(int(parameter1) == 0):\n",
    "                    self.memory_location = int(parameter2)\n",
    "                else:        \n",
    "                    self.memory_location += self.intcode_dict[de]\n",
    "\n",
    "                continue\n",
    "\n",
    "            if(de == '07'):\n",
    "                parameter1 = self.process_parameter(c, 1) # self.program[int(self.program[self.memory_location + 1])] if (c == '0') else self.program[self.memory_location + 1]\n",
    "                parameter2 = self.process_parameter(b, 2) # self.program[int(self.program[self.memory_location + 2])] if (b == '0') else self.program[self.memory_location + 2]\n",
    "                parameter3 = int(self.program[self.memory_location+3])\n",
    "\n",
    "                parameter1 = int(parameter1)\n",
    "                parameter2 = int(parameter2)\n",
    "                if(parameter1 < parameter2):\n",
    "                    self.program[parameter3] = '1'\n",
    "                else:        \n",
    "                    self.program[parameter3] = '0'\n",
    "\n",
    "                self.memory_location += self.intcode_dict[de]\n",
    "                continue\n",
    "\n",
    "            if(de == '08'):\n",
    "                parameter1 = self.process_parameter(c, 1) # self.program[int(self.program[self.memory_location + 1])] if (c == '0') else self.program[self.memory_location + 1]\n",
    "                parameter2 = self.process_parameter(b, 2) # self.program[int(self.program[self.memory_location + 2])] if (b == '0') else self.program[self.memory_location + 2]\n",
    "                parameter3 = int(self.program[self.memory_location+3])\n",
    "\n",
    "                parameter1 = int(parameter1)\n",
    "                parameter2 = int(parameter2)\n",
    "                if(parameter1 == parameter2):\n",
    "                    self.program[parameter3] = '1'\n",
    "                else:        \n",
    "                    self.program[parameter3] = '0'\n",
    "\n",
    "                self.memory_location += self.intcode_dict[de]\n",
    "                continue\n",
    "            \n",
    "            if(de == '09'):\n",
    "                parameter1 = int(self.program[self.memory_location + 1])\n",
    "                self.relative_base += int(parameter1)\n",
    "                self.memory_location += self.intcode_dict[de]\n",
    "                continue                \n",
    "\n",
    "            if(de == '99'):\n",
    "                break"
   ]
  },
  {
   "cell_type": "code",
   "execution_count": 328,
   "metadata": {},
   "outputs": [],
   "source": [
    "thisComputer = intCodeComputer('day9_input')\n",
    "# thisComputer = intCodeComputer('day5_input')\n",
    "# thisComputer = intCodeComputer('test_input.txt')"
   ]
  },
  {
   "cell_type": "code",
   "execution_count": 329,
   "metadata": {},
   "outputs": [
    {
     "name": "stdout",
     "output_type": "stream",
     "text": [
      "48 0 0 0 04 203\n",
      "50 0 0 1 04 0\n"
     ]
    }
   ],
   "source": [
    "thisComputer.execute_program(user_input=1)"
   ]
  },
  {
   "cell_type": "code",
   "execution_count": 332,
   "metadata": {},
   "outputs": [
    {
     "data": {
      "text/plain": [
       "'4'"
      ]
     },
     "execution_count": 332,
     "metadata": {},
     "output_type": "execute_result"
    }
   ],
   "source": [
    "thisComputer.program[48]"
   ]
  },
  {
   "cell_type": "code",
   "execution_count": null,
   "metadata": {},
   "outputs": [],
   "source": []
  }
 ],
 "metadata": {
  "kernelspec": {
   "display_name": "Python 3",
   "language": "python",
   "name": "python3"
  },
  "language_info": {
   "codemirror_mode": {
    "name": "ipython",
    "version": 3
   },
   "file_extension": ".py",
   "mimetype": "text/x-python",
   "name": "python",
   "nbconvert_exporter": "python",
   "pygments_lexer": "ipython3",
   "version": "3.7.4"
  }
 },
 "nbformat": 4,
 "nbformat_minor": 2
}
