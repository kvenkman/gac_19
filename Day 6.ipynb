{
 "cells": [
  {
   "cell_type": "markdown",
   "metadata": {},
   "source": [
    "# Part 1"
   ]
  },
  {
   "cell_type": "code",
   "execution_count": 2,
   "metadata": {},
   "outputs": [],
   "source": [
    "import collections"
   ]
  },
  {
   "cell_type": "code",
   "execution_count": 3,
   "metadata": {},
   "outputs": [
    {
     "name": "stdout",
     "output_type": "stream",
     "text": [
      "2056\n"
     ]
    }
   ],
   "source": [
    "filename = 'day6_input'\n",
    "with open(filename, 'r') as f:\n",
    "    lines = f.readlines()\n",
    "\n",
    "print(len(lines))"
   ]
  },
  {
   "cell_type": "code",
   "execution_count": 16,
   "metadata": {},
   "outputs": [],
   "source": [
    "# Dict that stores child planet as key, parent planet as value\n",
    "objects = collections.defaultdict(str)\n",
    "\n",
    "for line in lines:\n",
    "    line_objects = line.split(\")\")\n",
    "    \n",
    "    objects[line_objects[1][:-1]] = line_objects[0] # object keys are the children, values are the parents"
   ]
  },
  {
   "cell_type": "code",
   "execution_count": 46,
   "metadata": {},
   "outputs": [
    {
     "name": "stdout",
     "output_type": "stream",
     "text": [
      "387356\n"
     ]
    }
   ],
   "source": [
    "count = 0 \n",
    "\n",
    "# Original approach, traverse all the way to 'COM' from each leaf\n",
    "# for key in objects.keys():\n",
    "#     parent = key\n",
    "#     while parent != \"COM\":\n",
    "#         parent = objects[parent]\n",
    "#         count += 1\n",
    "\n",
    "# Updated approach, use look up tables to avoid repeat traversals of known paths\n",
    "path_length = collections.defaultdict(int)\n",
    "\n",
    "for key in objects.keys():\n",
    "    original_node, parent = key, key\n",
    "    this_path = 0 \n",
    "    while parent != \"COM\":\n",
    "        count += 1\n",
    "        this_path += 1        \n",
    "        parent = objects[parent]\n",
    "        if parent in path_length:\n",
    "            count += path_length[parent]\n",
    "            this_path += path_length[parent]\n",
    "            break   \n",
    "    \n",
    "    path_length[original_node] = this_path\n",
    "\n",
    "\n",
    "print(count)"
   ]
  },
  {
   "cell_type": "code",
   "execution_count": null,
   "metadata": {},
   "outputs": [],
   "source": [
    "# 387356 - correct answer"
   ]
  },
  {
   "cell_type": "markdown",
   "metadata": {},
   "source": [
    "# Part Two"
   ]
  },
  {
   "cell_type": "code",
   "execution_count": 51,
   "metadata": {},
   "outputs": [
    {
     "data": {
      "text/plain": [
       "'186'"
      ]
     },
     "execution_count": 51,
     "metadata": {},
     "output_type": "execute_result"
    }
   ],
   "source": [
    "objects[\"SAN\"]"
   ]
  },
  {
   "cell_type": "code",
   "execution_count": 99,
   "metadata": {},
   "outputs": [],
   "source": [
    "def build_orbital_path(planet_name:str, orbital_map:dict) -> list:\n",
    "    # returns list of planets from source to COM\n",
    "    planet_path = []\n",
    "    parent = planet_name\n",
    "    while parent != \"COM\":\n",
    "        parent = orbital_map[parent]\n",
    "        planet_path.append(parent)\n",
    "        \n",
    "    return planet_path[::-1]"
   ]
  },
  {
   "cell_type": "code",
   "execution_count": 100,
   "metadata": {},
   "outputs": [],
   "source": [
    "my_path = (build_orbital_path(\"YOU\", objects))\n",
    "santa_path = (build_orbital_path(\"SAN\", objects))"
   ]
  },
  {
   "cell_type": "code",
   "execution_count": 108,
   "metadata": {},
   "outputs": [
    {
     "name": "stdout",
     "output_type": "stream",
     "text": [
      "Last common planet: DGR Transfer length:  532\n"
     ]
    }
   ],
   "source": [
    "for one, two in zip(my_path, santa_path):\n",
    "    if one == two:\n",
    "        temp = one\n",
    "    else:\n",
    "        break\n",
    "\n",
    "        \n",
    "# -2 because we don't need to include the starting and ending planets as a \"transfer\"\n",
    "print(\"Last common planet: \"+temp, \"Transfer length: \", path_length[\"YOU\"] + path_length[\"SAN\"] - 2*path_length[temp] - 2)"
   ]
  }
 ],
 "metadata": {
  "kernelspec": {
   "display_name": "Python 3",
   "language": "python",
   "name": "python3"
  },
  "language_info": {
   "codemirror_mode": {
    "name": "ipython",
    "version": 3
   },
   "file_extension": ".py",
   "mimetype": "text/x-python",
   "name": "python",
   "nbconvert_exporter": "python",
   "pygments_lexer": "ipython3",
   "version": "3.6.5"
  }
 },
 "nbformat": 4,
 "nbformat_minor": 2
}
