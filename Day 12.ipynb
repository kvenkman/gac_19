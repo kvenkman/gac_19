{
 "cells": [
  {
   "cell_type": "markdown",
   "metadata": {},
   "source": [
    "# Part 1"
   ]
  },
  {
   "cell_type": "code",
   "execution_count": 5,
   "metadata": {},
   "outputs": [],
   "source": [
    "import numpy as np"
   ]
  },
  {
   "cell_type": "code",
   "execution_count": 6,
   "metadata": {},
   "outputs": [],
   "source": [
    "class moonsOfJupiter():\n",
    "    def __init__(self, input_line):\n",
    "        self.position = self.parse_input(input_line)\n",
    "        self.velocity = [0, 0, 0]\n",
    "        \n",
    "        self.dv = [0, 0, 0]\n",
    "        \n",
    "        self.x_period, self.y_period, self.z_period = 0, 0, 0\n",
    "        self.vx_period, self.vy_period, self.vz_period = 0, 0, 0\n",
    "        \n",
    "        self.xhistory, self.yhistory, self.zhistory = set(), set(), set()\n",
    "        self.vxhistory, self.vyhistory, self.vzhistory = set(), set(), set()\n",
    "\n",
    "    def __repr__(self):\n",
    "        return (self.position[0], self.position[1], self.position[2], \n",
    "                self.velocity[0], self.velocity[1], self.velocity[2])\n",
    "    \n",
    "    def parse_input(self, input_line):\n",
    "        input_line = input_line[1:-2].split(', ')\n",
    "        \n",
    "        x = int(input_line[0][2:])\n",
    "        y = int(input_line[1][2:])\n",
    "        z = int(input_line[2][2:])\n",
    "        \n",
    "        return [x, y, z]\n",
    "    \n",
    "    def calculate_v_update(self, moon1, moon2, moon3):\n",
    "        for i in range(3):\n",
    "            self.dv[i] = self.calculate_increment(self.position[i], moon1.position[i]) + \\\n",
    "                         self.calculate_increment(self.position[i], moon2.position[i]) + \\\n",
    "                         self.calculate_increment(self.position[i], moon3.position[i])\n",
    "    \n",
    "    def calculate_increment(self, one, two):\n",
    "        if (one<two):\n",
    "            return 1\n",
    "        elif(one>two):\n",
    "            return -1\n",
    "        else:\n",
    "            return 0\n",
    "        \n",
    "    def update_pv(self):\n",
    "        for i in range(3):\n",
    "            self.velocity[i] += self.dv[i]\n",
    "        for i in range(3):\n",
    "            self.position[i] += self.velocity[i]\n",
    "            \n",
    "        self.dv = [0, 0, 0]\n",
    "        \n",
    "    def calculate_pe(self):\n",
    "        pe = 0\n",
    "        for i in range(3):\n",
    "            pe += abs(self.position[i]) \n",
    "        return pe\n",
    "    \n",
    "    def calculate_ke(self):\n",
    "        ke = 0\n",
    "        for i in range(3):\n",
    "            ke += abs(self.velocity[i]) \n",
    "        return ke\n",
    "    \n",
    "    def calculate_te(self):\n",
    "        '''calculate total energy'''\n",
    "        total_energy = self.calculate_pe() * self.calculate_ke()\n",
    "        return total_energy\n",
    "    \n",
    "    def print_pv(self):\n",
    "        print([self.position[0], self.position[1], self.position[2], self.velocity[0], self.velocity[1], self.velocity[2]])\n",
    "        \n",
    "    def check_histories(self, i):\n",
    "        \n",
    "        if not self.x_period:\n",
    "            if self.position[0] not in self.xhistory:\n",
    "                self.xhistory.add(self.position[0])\n",
    "            else:\n",
    "                self.x_period = i\n",
    "                \n",
    "        if not self.y_period:\n",
    "            if self.position[1] not in self.yhistory:\n",
    "                self.yhistory.add(self.position[1])\n",
    "            else:\n",
    "                self.y_period = i\n",
    "\n",
    "        if not self.z_period:\n",
    "            if self.position[2] not in self.zhistory:\n",
    "                self.zhistory.add(self.position[2])\n",
    "            else:\n",
    "                self.z_period = i\n",
    "\n",
    "        if not self.vx_period:\n",
    "            if self.velocity[0] not in self.vxhistory:\n",
    "                self.vxhistory.add(self.velocity[0])\n",
    "            else:\n",
    "                self.vx_period = i\n",
    "                \n",
    "        if not self.vy_period:\n",
    "            if self.velocity[1] not in self.vyhistory:\n",
    "                self.vyhistory.add(self.velocity[1])\n",
    "            else:\n",
    "                self.vy_period = i\n",
    "\n",
    "        if not self.vz_period:\n",
    "            if self.velocity[2] not in self.vzhistory:\n",
    "                self.vzhistory.add(self.velocity[2])\n",
    "            else:\n",
    "                self.vz_period = i"
   ]
  },
  {
   "cell_type": "code",
   "execution_count": 7,
   "metadata": {},
   "outputs": [],
   "source": [
    "input_file = 'day12_input.txt'\n",
    "# input_file = 'day12_test_input.txt'\n",
    "with open(input_file, 'r') as f:\n",
    "    lines = f.readlines()\n",
    "    \n",
    "# Setting initial positions and velocities for the moons\n",
    "io = moonsOfJupiter(lines[0])\n",
    "europa = moonsOfJupiter(lines[1])\n",
    "ganymede = moonsOfJupiter(lines[2])\n",
    "callisto = moonsOfJupiter(lines[3])"
   ]
  },
  {
   "cell_type": "code",
   "execution_count": 8,
   "metadata": {},
   "outputs": [],
   "source": [
    "# Let's simulate the trajectories!\n",
    "for i in range(1000):\n",
    "    io.calculate_v_update(europa, ganymede, callisto)\n",
    "    europa.calculate_v_update(io, ganymede, callisto)\n",
    "    ganymede.calculate_v_update(io, europa, callisto)\n",
    "    callisto.calculate_v_update(io, europa, ganymede)\n",
    "    \n",
    "    io.update_pv()\n",
    "    europa.update_pv()\n",
    "    ganymede.update_pv()\n",
    "    callisto.update_pv() "
   ]
  },
  {
   "cell_type": "code",
   "execution_count": 9,
   "metadata": {},
   "outputs": [
    {
     "name": "stdout",
     "output_type": "stream",
     "text": [
      "11384\n"
     ]
    }
   ],
   "source": [
    "print(io.calculate_te() + ganymede.calculate_te() + europa.calculate_te() + callisto.calculate_te())"
   ]
  },
  {
   "cell_type": "markdown",
   "metadata": {},
   "source": [
    "# Part 2"
   ]
  },
  {
   "cell_type": "code",
   "execution_count": 141,
   "metadata": {},
   "outputs": [],
   "source": [
    "input_file = 'day12_input.txt'\n",
    "# input_file = 'day12_test_input.txt'\n",
    "with open(input_file, 'r') as f:\n",
    "    lines = f.readlines()\n",
    "    \n",
    "# Setting initial positions and velocities for the moons\n",
    "io = moonsOfJupiter(lines[0])\n",
    "europa = moonsOfJupiter(lines[1])\n",
    "ganymede = moonsOfJupiter(lines[2])\n",
    "callisto = moonsOfJupiter(lines[3])\n",
    "\n",
    "io_initial = io.__repr__()\n",
    "europa_initial = europa.__repr__()\n",
    "ganymede_initial = ganymede.__repr__()\n",
    "callisto_initial = callisto.__repr__()"
   ]
  },
  {
   "cell_type": "code",
   "execution_count": 142,
   "metadata": {},
   "outputs": [],
   "source": [
    "io_periods = [[0], [0], [0]]\n",
    "europa_periods = [[0], [0], [0]]\n",
    "ganymede_periods = [[0], [0], [0]]\n",
    "callisto_periods = [[0], [0], [0]]"
   ]
  },
  {
   "cell_type": "code",
   "execution_count": 143,
   "metadata": {},
   "outputs": [],
   "source": [
    "def fillPeriods(periods, inputValue, refValue, i):\n",
    "    \n",
    "    for j in range(3):\n",
    "        if((inputValue[j] == refValue[j]) and (inputValue[j+3] == refValue[j+3])):\n",
    "            periods[j].append(i)\n",
    "    \n",
    "    return periods"
   ]
  },
  {
   "cell_type": "code",
   "execution_count": 144,
   "metadata": {},
   "outputs": [],
   "source": [
    "def calcPeriodsHelper(axisPeriods):\n",
    "    i, period = 1, 0\n",
    "    \n",
    "    while(axisPeriods[i] != axisPeriods[0]):\n",
    "        period += axisPeriods[i]\n",
    "        i += 1\n",
    "    \n",
    "    period += axisPeriods[0] if (i == 1) else 2*axisPeriods[0]\n",
    "    \n",
    "    return period"
   ]
  },
  {
   "cell_type": "code",
   "execution_count": 145,
   "metadata": {},
   "outputs": [],
   "source": [
    "def calcPeriods(periods):\n",
    "    ''' given the periods in x, y, and z, return the period of the moon'''\n",
    "    \n",
    "    periods_x = (np.array(periods[0][1:]) - np.array(periods[0][0:-1]))\n",
    "    period_x = calcPeriodsHelper(periods_x)\n",
    "        \n",
    "    periods_y = (np.array(periods[1][1:]) - np.array(periods[1][0:-1]))\n",
    "    period_y = calcPeriodsHelper(periods_y)\n",
    "    \n",
    "    periods_z = (np.array(periods[2][1:]) - np.array(periods[2][0:-1]))\n",
    "    period_z = calcPeriodsHelper(periods_z)\n",
    "    \n",
    "    return np.lcm.reduce([period_x, period_y, period_z])"
   ]
  },
  {
   "cell_type": "code",
   "execution_count": 146,
   "metadata": {},
   "outputs": [],
   "source": [
    "# Let's simulate the trajectories!\n",
    "# Add while loop here that checks lengths of each periods, making sure we have at least 50 elements each\n",
    "for i in range(1, 500000):\n",
    "    io.calculate_v_update(europa, ganymede, callisto)\n",
    "    europa.calculate_v_update(io, ganymede, callisto)\n",
    "    ganymede.calculate_v_update(io, europa, callisto)\n",
    "    callisto.calculate_v_update(io, europa, ganymede)\n",
    "    \n",
    "    io.update_pv()\n",
    "    europa.update_pv()\n",
    "    ganymede.update_pv()\n",
    "    callisto.update_pv()\n",
    "    \n",
    "    io_periods = fillPeriods(io_periods, io.__repr__(), io_initial, i)\n",
    "    europa_periods =fillPeriods(europa_periods, europa.__repr__(), europa_initial, i)\n",
    "    ganymede_periods = fillPeriods(ganymede_periods, ganymede.__repr__(), ganymede_initial, i)\n",
    "    callisto_periods = fillPeriods(callisto_periods, callisto.__repr__(), callisto_initial, i)\n",
    "\n",
    "    "
   ]
  },
  {
   "cell_type": "code",
   "execution_count": 147,
   "metadata": {},
   "outputs": [],
   "source": [
    "io_period = calcPeriods(io_periods)\n",
    "europa_period = calcPeriods(europa_periods)\n",
    "callisto_period = calcPeriods(callisto_periods)\n",
    "ganymede_period = calcPeriods(ganymede_periods)"
   ]
  },
  {
   "cell_type": "code",
   "execution_count": 148,
   "metadata": {},
   "outputs": [
    {
     "data": {
      "text/plain": [
       "452582583272768"
      ]
     },
     "execution_count": 148,
     "metadata": {},
     "output_type": "execute_result"
    }
   ],
   "source": [
    "np.lcm.reduce([io_period, europa_period, callisto_period, ganymede_period])"
   ]
  }
 ],
 "metadata": {
  "kernelspec": {
   "display_name": "Python 3",
   "language": "python",
   "name": "python3"
  },
  "language_info": {
   "codemirror_mode": {
    "name": "ipython",
    "version": 3
   },
   "file_extension": ".py",
   "mimetype": "text/x-python",
   "name": "python",
   "nbconvert_exporter": "python",
   "pygments_lexer": "ipython3",
   "version": "3.7.4"
  }
 },
 "nbformat": 4,
 "nbformat_minor": 2
}
